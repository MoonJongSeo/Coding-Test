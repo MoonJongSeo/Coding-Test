{
 "metadata": {
  "language_info": {
   "codemirror_mode": {
    "name": "ipython",
    "version": 3
   },
   "file_extension": ".py",
   "mimetype": "text/x-python",
   "name": "python",
   "nbconvert_exporter": "python",
   "pygments_lexer": "ipython3",
   "version": "3.8.10"
  },
  "orig_nbformat": 2,
  "kernelspec": {
   "name": "python3",
   "display_name": "Python 3.8.10 64-bit ('Coding-Test': conda)"
  },
  "metadata": {
   "interpreter": {
    "hash": "85557820eaa0120bc59270fca6c982f17242ce79bc5610c6f40a7dc6235f804c"
   }
  },
  "interpreter": {
   "hash": "1d59d707f906d76e3f95318c6a5bb7ea4981fb1f54e818f3b04a7e3df9c292bc"
  }
 },
 "nbformat": 4,
 "nbformat_minor": 2,
 "cells": [
  {
   "cell_type": "code",
   "execution_count": null,
   "source": [
    "#개수 길이\r\n",
    "4 6\r\n",
    "19 14 10 17\r\n",
    "4 0 0 2"
   ],
   "outputs": [],
   "metadata": {}
  },
  {
   "cell_type": "code",
   "execution_count": null,
   "source": [
    "'''\r\n",
    "c : 떡 개수\r\n",
    "u : 사용자가 원하는 떡 길이\r\n",
    "l : 떡들의 길이\r\n",
    "t : 사용자를 만족시키는 떡의 최소 길이\r\n",
    "s : t를 했을 때 잘라서 나오는 떡의 길이의 총합\r\n",
    "'''"
   ],
   "outputs": [],
   "metadata": {}
  },
  {
   "cell_type": "code",
   "execution_count": 7,
   "source": [
    "c = 4\r\n",
    "u = 6\r\n",
    "l = [19, 14, 10, 17]\r\n",
    "l.sort(reverse=True)\r\n",
    "print(l)"
   ],
   "outputs": [
    {
     "output_type": "stream",
     "name": "stdout",
     "text": [
      "[19, 17, 14, 10]\n"
     ]
    }
   ],
   "metadata": {}
  },
  {
   "cell_type": "code",
   "execution_count": 13,
   "source": [
    "l.sort(reverse=True)\r\n",
    "t = int((sum(l) - u) /  c)\r\n",
    "\r\n",
    "while True:\r\n",
    "    s = 0\r\n",
    "    for i in l:\r\n",
    "        if i < t:\r\n",
    "            break\r\n",
    "        s += i - t\r\n",
    "\r\n",
    "    if s == u:\r\n",
    "        break\r\n",
    "    elif s < u:\r\n",
    "        t -= 1\r\n",
    "        break\r\n",
    "    t += 1\r\n",
    "print(s)"
   ],
   "outputs": [
    {
     "output_type": "stream",
     "name": "stdout",
     "text": [
      "6\n"
     ]
    }
   ],
   "metadata": {}
  },
  {
   "cell_type": "code",
   "execution_count": null,
   "source": [
    "5\r\n",
    "83792\r\n",
    "3\r\n",
    "579"
   ],
   "outputs": [],
   "metadata": {}
  },
  {
   "cell_type": "code",
   "execution_count": 16,
   "source": [
    "p_l.sort()\r\n",
    "print(p_l)"
   ],
   "outputs": [
    {
     "output_type": "stream",
     "name": "stdout",
     "text": [
      "[2, 3, 7, 8, 9]\n"
     ]
    }
   ],
   "metadata": {}
  },
  {
   "cell_type": "code",
   "execution_count": 27,
   "source": [
    "# func(0, len(p_l))\r\n",
    "# 0, len(p_l - 1)\r\n",
    "t = int((0 + len(p_l)) / 2) # t = 2\r\n",
    "p_l[t] > c_l[0] # p_l[t] = 7\r\n",
    "\r\n",
    "# func(0, t)\r\n",
    "# 0, t(2)\r\n",
    "t = int((0 + t) / 2) # t = 1\r\n",
    "p_l[t] < c_l[0] # p_l[t] = 3\r\n",
    "# func(t, 2)\r\n",
    "\r\n",
    "# t(1), 2"
   ],
   "outputs": [
    {
     "output_type": "execute_result",
     "data": {
      "text/plain": [
       "True"
      ]
     },
     "metadata": {},
     "execution_count": 27
    }
   ],
   "metadata": {}
  },
  {
   "cell_type": "code",
   "execution_count": 1,
   "source": [
    "p_l = [8, 3, 7, 9, 2]\r\n",
    "c_l = [5, 7, 9]\r\n",
    "p_l = [2, 3, 7, 8, 9]"
   ],
   "outputs": [],
   "metadata": {}
  },
  {
   "cell_type": "code",
   "execution_count": 6,
   "source": [
    "p_l.sort()\r\n",
    "\r\n",
    "def func(i, min_t, max_t):\r\n",
    "    t = int((min_t + max_t) / 2)\r\n",
    "    print(p_l[t], c_l[i])\r\n",
    "\r\n",
    "    if max_t - min_t == 1 or min_t - max_t == 1:\r\n",
    "        answer = \"No\"\r\n",
    "        return answer\r\n",
    "\r\n",
    "    if p_l[t] > c_l[i]:\r\n",
    "        answer = func(i, min_t, t)\r\n",
    "    elif p_l[t] < c_l[i]:\r\n",
    "        answer = func(i, t, max_t) # 2 4\r\n",
    "    else:\r\n",
    "        answer = \"Yes\"\r\n",
    "        return answer\r\n",
    "    return answer\r\n",
    "\r\n",
    "for i in range(len(c_l)):\r\n",
    "    print(func(i, -1, len(p_l)), end=' ')"
   ],
   "outputs": [
    {
     "output_type": "stream",
     "name": "stdout",
     "text": [
      "7 5\n",
      "2 5\n",
      "3 5\n",
      "3 5\n",
      "No 7 7\n",
      "Yes 7 9\n",
      "8 9\n",
      "9 9\n",
      "Yes "
     ]
    }
   ],
   "metadata": {}
  },
  {
   "cell_type": "code",
   "execution_count": 5,
   "source": [
    "cnt = 0\r\n",
    "x= 37\r\n",
    "while True:\r\n",
    "    \r\n",
    "    if x % 5 == 1:\r\n",
    "        x -= 1\r\n",
    "    elif x % 5 == 0:\r\n",
    "        x /= 5\r\n",
    "    elif x % 3 == 0:\r\n",
    "        x /= 3\r\n",
    "    elif x % 2 == 0:\r\n",
    "        x /= 2\r\n",
    "    else:\r\n",
    "        x -= 1\r\n",
    "    \r\n",
    "    cnt += 1\r\n",
    "\r\n",
    "    if x == 1:\r\n",
    "        break\r\n",
    "\r\n",
    "print(cnt)"
   ],
   "outputs": [
    {
     "output_type": "stream",
     "name": "stdout",
     "text": [
      "6\n"
     ]
    }
   ],
   "metadata": {}
  },
  {
   "cell_type": "code",
   "execution_count": 6,
   "source": [
    "n = 4\r\n",
    "m = [1, 3, 1, 5]\r\n",
    "\r\n",
    "odd = 0\r\n",
    "even = 0\r\n",
    "\r\n",
    "for i in range(len(m)):\r\n",
    "    if i % 2 == 0:\r\n",
    "        even += m[i]\r\n",
    "    else:\r\n",
    "        odd += m[i]\r\n",
    "if even > odd:\r\n",
    "    print(even)\r\n",
    "else:\r\n",
    "    print(odd)"
   ],
   "outputs": [
    {
     "output_type": "stream",
     "name": "stdout",
     "text": [
      "8\n"
     ]
    }
   ],
   "metadata": {}
  },
  {
   "cell_type": "code",
   "execution_count": 27,
   "source": [
    "# S = \"K1KA5CB7\"\r\n",
    "S = \"AJKDLSI412K4JSJ9D\"\r\n",
    "\r\n",
    "import re\r\n",
    "\r\n",
    "numbers = re.sub(r'[^0-9]', '', S)\r\n",
    "alphabet = re.sub(r'[^A-Z]', '', S)\r\n",
    "\r\n",
    "numbers_end = str(sum(list(map(int, numbers))))\r\n",
    "alphabet_end = ''.join(sorted(list(map(str, alphabet))))\r\n",
    "\r\n",
    "print(alphabet_end + numbers_end)"
   ],
   "outputs": [
    {
     "output_type": "stream",
     "name": "stdout",
     "text": [
      "ADDIJJJKKLSS20\n"
     ]
    }
   ],
   "metadata": {}
  },
  {
   "cell_type": "code",
   "execution_count": null,
   "source": [
    "def content_information(path):\r\n",
    "    batcmd = F\"\"\"/usr/local/bin/ffprobe -v quiet -print_format json -show_format -show_streams -select_streams v:0 {path}\"\"\"\r\n",
    "    result = json.loads(subprocess.check_output(batcmd, shell=True))\r\n",
    "\r\n",
    "    width = result[\"streams\"][0][\"width\"]\r\n",
    "    height = result[\"streams\"][0][\"height\"]\r\n",
    "\r\n",
    "    return width, height\r\n",
    "\r\n",
    "def task_information(path):\r\n",
    "    batcmd = F\"\"\"/usr/local/bin/ffprobe -v quiet -print_format json -show_format -show_streams -select_streams v:0 {path}\"\"\"\r\n",
    "    result = json.loads(subprocess.check_output(batcmd, shell=True))\r\n",
    "\r\n",
    "    width = result[\"streams\"][0][\"width\"]\r\n",
    "    height = result[\"streams\"][0][\"height\"]\r\n",
    "    duration = int(float(result[\"streams\"][0][\"duration\"]))\r\n",
    "    fps = int(int(result[\"streams\"][0][\"nb_frames\"]) / duration)\r\n",
    "    size = int(result[\"format\"][\"size\"])\r\n",
    "\r\n",
    "    return width, height, duration, fps, size\r\n",
    "\r\n",
    "def join_information(path):\r\n",
    "    batcmd = F\"\"\"/usr/local/bin/ffprobe -v quiet -print_format json -show_format -show_streams -select_streams v:0 {path}\"\"\"\r\n",
    "    result = json.loads(subprocess.check_output(batcmd, shell=True))\r\n",
    "\r\n",
    "    width = result[\"streams\"][0][\"width\"]\r\n",
    "    height = result[\"streams\"][0][\"height\"]\r\n",
    "    duration = int(float(result[\"streams\"][0][\"duration\"]))\r\n",
    "    fps = int(int(result[\"streams\"][0][\"nb_frames\"]) / duration)\r\n",
    "    size = int(result[\"format\"][\"size\"])\r\n",
    "    return"
   ],
   "outputs": [],
   "metadata": {}
  }
 ]
}