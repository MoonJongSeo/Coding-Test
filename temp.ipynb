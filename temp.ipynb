{
 "metadata": {
  "language_info": {
   "codemirror_mode": {
    "name": "ipython",
    "version": 3
   },
   "file_extension": ".py",
   "mimetype": "text/x-python",
   "name": "python",
   "nbconvert_exporter": "python",
   "pygments_lexer": "ipython3",
   "version": "3.9.4"
  },
  "orig_nbformat": 2,
  "kernelspec": {
   "name": "python394jvsc74a57bd085557820eaa0120bc59270fca6c982f17242ce79bc5610c6f40a7dc6235f804c",
   "display_name": "Python 3.9.4 64-bit"
  },
  "metadata": {
   "interpreter": {
    "hash": "85557820eaa0120bc59270fca6c982f17242ce79bc5610c6f40a7dc6235f804c"
   }
  }
 },
 "nbformat": 4,
 "nbformat_minor": 2,
 "cells": [
  {
   "cell_type": "code",
   "execution_count": null,
   "metadata": {},
   "outputs": [],
   "source": [
    "#개수 길이\n",
    "4 6\n",
    "19 14 10 17\n",
    "4 0 0 2"
   ]
  },
  {
   "cell_type": "code",
   "execution_count": null,
   "metadata": {},
   "outputs": [],
   "source": [
    "'''\n",
    "c : 떡 개수\n",
    "u : 사용자가 원하는 떡 길이\n",
    "l : 떡들의 길이\n",
    "t : 사용자를 만족시키는 떡의 최소 길이\n",
    "s : t를 했을 때 잘라서 나오는 떡의 길이의 총합\n",
    "'''"
   ]
  },
  {
   "cell_type": "code",
   "execution_count": 7,
   "metadata": {},
   "outputs": [
    {
     "output_type": "stream",
     "name": "stdout",
     "text": [
      "[19, 17, 14, 10]\n"
     ]
    }
   ],
   "source": [
    "c = 4\n",
    "u = 6\n",
    "l = [19, 14, 10, 17]\n",
    "l.sort(reverse=True)\n",
    "print(l)"
   ]
  },
  {
   "cell_type": "code",
   "execution_count": 13,
   "metadata": {},
   "outputs": [
    {
     "output_type": "stream",
     "name": "stdout",
     "text": [
      "6\n"
     ]
    }
   ],
   "source": [
    "l.sort(reverse=True)\n",
    "t = int((sum(l) - u) /  c)\n",
    "\n",
    "while True:\n",
    "    s = 0\n",
    "    for i in l:\n",
    "        if i < t:\n",
    "            break\n",
    "        s += i - t\n",
    "\n",
    "    if s == u:\n",
    "        break\n",
    "    elif s < u:\n",
    "        t -= 1\n",
    "        break\n",
    "    t += 1\n",
    "print(s)"
   ]
  },
  {
   "cell_type": "code",
   "execution_count": null,
   "metadata": {},
   "outputs": [],
   "source": [
    "5\n",
    "83792\n",
    "3\n",
    "579"
   ]
  },
  {
   "cell_type": "code",
   "execution_count": 16,
   "metadata": {},
   "outputs": [
    {
     "output_type": "stream",
     "name": "stdout",
     "text": [
      "[2, 3, 7, 8, 9]\n"
     ]
    }
   ],
   "source": [
    "p_l.sort()\n",
    "print(p_l)"
   ]
  },
  {
   "cell_type": "code",
   "execution_count": 27,
   "metadata": {},
   "outputs": [
    {
     "output_type": "execute_result",
     "data": {
      "text/plain": [
       "True"
      ]
     },
     "metadata": {},
     "execution_count": 27
    }
   ],
   "source": [
    "# func(0, len(p_l))\n",
    "# 0, len(p_l - 1)\n",
    "t = int((0 + len(p_l)) / 2) # t = 2\n",
    "p_l[t] > c_l[0] # p_l[t] = 7\n",
    "\n",
    "# func(0, t)\n",
    "# 0, t(2)\n",
    "t = int((0 + t) / 2) # t = 1\n",
    "p_l[t] < c_l[0] # p_l[t] = 3\n",
    "# func(t, 2)\n",
    "\n",
    "# t(1), 2"
   ]
  },
  {
   "cell_type": "code",
   "execution_count": 1,
   "metadata": {},
   "outputs": [],
   "source": [
    "p_l = [8, 3, 7, 9, 2]\n",
    "c_l = [5, 7, 9]\n",
    "p_l = [2, 3, 7, 8, 9]"
   ]
  },
  {
   "cell_type": "code",
   "execution_count": 6,
   "metadata": {},
   "outputs": [
    {
     "output_type": "stream",
     "name": "stdout",
     "text": [
      "7 5\n2 5\n3 5\n3 5\nNo 7 7\nYes 7 9\n8 9\n9 9\nYes "
     ]
    }
   ],
   "source": [
    "p_l.sort()\n",
    "\n",
    "def func(i, min_t, max_t):\n",
    "    t = int((min_t + max_t) / 2)\n",
    "    print(p_l[t], c_l[i])\n",
    "\n",
    "    if max_t - min_t == 1 or min_t - max_t == 1:\n",
    "        answer = \"No\"\n",
    "        return answer\n",
    "\n",
    "    if p_l[t] > c_l[i]:\n",
    "        answer = func(i, min_t, t)\n",
    "    elif p_l[t] < c_l[i]:\n",
    "        answer = func(i, t, max_t) # 2 4\n",
    "    else:\n",
    "        answer = \"Yes\"\n",
    "        return answer\n",
    "    return answer\n",
    "\n",
    "for i in range(len(c_l)):\n",
    "    print(func(i, -1, len(p_l)), end=' ')"
   ]
  },
  {
   "cell_type": "code",
   "execution_count": 5,
   "metadata": {},
   "outputs": [
    {
     "output_type": "stream",
     "name": "stdout",
     "text": [
      "6\n"
     ]
    }
   ],
   "source": [
    "cnt = 0\n",
    "x= 37\n",
    "while True:\n",
    "    \n",
    "    if x % 5 == 1:\n",
    "        x -= 1\n",
    "    elif x % 5 == 0:\n",
    "        x /= 5\n",
    "    elif x % 3 == 0:\n",
    "        x /= 3\n",
    "    elif x % 2 == 0:\n",
    "        x /= 2\n",
    "    else:\n",
    "        x -= 1\n",
    "    \n",
    "    cnt += 1\n",
    "\n",
    "    if x == 1:\n",
    "        break\n",
    "\n",
    "print(cnt)"
   ]
  },
  {
   "cell_type": "code",
   "execution_count": 6,
   "metadata": {},
   "outputs": [
    {
     "output_type": "stream",
     "name": "stdout",
     "text": [
      "8\n"
     ]
    }
   ],
   "source": [
    "n = 4\n",
    "m = [1, 3, 1, 5]\n",
    "\n",
    "odd = 0\n",
    "even = 0\n",
    "\n",
    "for i in range(len(m)):\n",
    "    if i % 2 == 0:\n",
    "        even += m[i]\n",
    "    else:\n",
    "        odd += m[i]\n",
    "if even > odd:\n",
    "    print(even)\n",
    "else:\n",
    "    print(odd)"
   ]
  },
  {
   "cell_type": "code",
   "execution_count": null,
   "metadata": {},
   "outputs": [],
   "source": [
    "n = 3\n",
    "x, y = n, 2\n",
    "\n",
    "s_1 = [1, 2]\n",
    "s_2 = [2, 1]\n",
    "s_3 = [2, 2]\n",
    "\n"
   ]
  },
  {
   "cell_type": "code",
   "execution_count": null,
   "metadata": {},
   "outputs": [],
   "source": [
    "def content_information(path):\n",
    "    batcmd = F\"\"\"/usr/local/bin/ffprobe -v quiet -print_format json -show_format -show_streams -select_streams v:0 {path}\"\"\"\n",
    "    result = json.loads(subprocess.check_output(batcmd, shell=True))\n",
    "\n",
    "    width = result[\"streams\"][0][\"width\"]\n",
    "    height = result[\"streams\"][0][\"height\"]\n",
    "\n",
    "    return width, height\n",
    "\n",
    "def task_information(path):\n",
    "    batcmd = F\"\"\"/usr/local/bin/ffprobe -v quiet -print_format json -show_format -show_streams -select_streams v:0 {path}\"\"\"\n",
    "    result = json.loads(subprocess.check_output(batcmd, shell=True))\n",
    "\n",
    "    width = result[\"streams\"][0][\"width\"]\n",
    "    height = result[\"streams\"][0][\"height\"]\n",
    "    duration = int(float(result[\"streams\"][0][\"duration\"]))\n",
    "    fps = int(int(result[\"streams\"][0][\"nb_frames\"]) / duration)\n",
    "    size = int(result[\"format\"][\"size\"])\n",
    "\n",
    "    return width, height, duration, fps, size\n",
    "\n",
    "def join_information(path):\n",
    "    batcmd = F\"\"\"/usr/local/bin/ffprobe -v quiet -print_format json -show_format -show_streams -select_streams v:0 {path}\"\"\"\n",
    "    result = json.loads(subprocess.check_output(batcmd, shell=True))\n",
    "\n",
    "    width = result[\"streams\"][0][\"width\"]\n",
    "    height = result[\"streams\"][0][\"height\"]\n",
    "    duration = int(float(result[\"streams\"][0][\"duration\"]))\n",
    "    fps = int(int(result[\"streams\"][0][\"nb_frames\"]) / duration)\n",
    "    size = int(result[\"format\"][\"size\"])\n",
    "    return"
   ]
  }
 ]
}