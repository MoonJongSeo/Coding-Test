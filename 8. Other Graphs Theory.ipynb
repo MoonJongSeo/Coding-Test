{
 "metadata": {
  "language_info": {
   "codemirror_mode": {
    "name": "ipython",
    "version": 3
   },
   "file_extension": ".py",
   "mimetype": "text/x-python",
   "name": "python",
   "nbconvert_exporter": "python",
   "pygments_lexer": "ipython3",
   "version": "3.8.3"
  },
  "orig_nbformat": 4,
  "kernelspec": {
   "name": "python3",
   "display_name": "Python 3.8.3 64-bit ('base': conda)"
  },
  "interpreter": {
   "hash": "c469c999aae2bf6d578d6881606ced546d1546d312a4811937df5b24665ee8bc"
  }
 },
 "nbformat": 4,
 "nbformat_minor": 2,
 "cells": [
  {
   "cell_type": "markdown",
   "source": [
    "# 서로소 집합 자료구조: 기본적인 구현 방법"
   ],
   "metadata": {}
  },
  {
   "cell_type": "code",
   "execution_count": 3,
   "source": [
    "# 특정 원소가 속한 집합을 찾기\r\n",
    "def find_parent(parent, x):\r\n",
    "    # 루트 노드를 찾을 때까지 재귀 호출\r\n",
    "    if parent[x] != x:\r\n",
    "         return find_parent(parent, parent[x])\r\n",
    "    return x\r\n",
    "\r\n",
    "# 두 원소가 속한 집합을 합치기\r\n",
    "def union_parent(parent, a, b):\r\n",
    "    a = find_parent(parent, a)\r\n",
    "    b = find_parent(parent, b)\r\n",
    "    if a < b:\r\n",
    "        parent[b] = a\r\n",
    "    else:\r\n",
    "        parent[a] = b\r\n",
    "\r\n",
    "# 노드의 개수와 간선(Union 연산)의 개수 입력 받기\r\n",
    "v, e = map(int, input().split())\r\n",
    "parent = [0] * (v + 1)  # 부모 테이블 초기화하기\r\n",
    "\r\n",
    "# 부모 테이블 상에서, 부모를 자기 자신으로 초기화\r\n",
    "for i in range(1, v + 1):\r\n",
    "    parent[i] = i\r\n",
    "\r\n",
    "# Union 연산을 각각 수행\r\n",
    "for i in range(e):\r\n",
    "    a, b = map(int, input().split())\r\n",
    "    union_parent(parent, a, b)\r\n",
    "\r\n",
    "# 각 원소가 속한 집합 출력하기\r\n",
    "print('각 원소가 속한 집합: ', end='')\r\n",
    "for i in range(1, v + 1):\r\n",
    "    print(find_parent(parent, i), end=' ')\r\n",
    "\r\n",
    "print()\r\n",
    "\r\n",
    "# 부모 테이블 내용 출력하기\r\n",
    "print('부모 테이블: ', end='')\r\n",
    "for i in range(1, v + 1):\r\n",
    "    print(parent[i], end=' ')"
   ],
   "outputs": [
    {
     "output_type": "stream",
     "name": "stdout",
     "text": [
      "각 원소가 속한 집합: 1 1 1 4 5 \n",
      "부모 테이블: 1 1 1 4 5 "
     ]
    }
   ],
   "metadata": {}
  },
  {
   "cell_type": "markdown",
   "source": [
    "# 서로소 집합을 활용한 사이클 판별"
   ],
   "metadata": {}
  },
  {
   "cell_type": "code",
   "execution_count": 5,
   "source": [
    "# 특정 원소가 속한 집합을 찾기\r\n",
    "def find_parent(parent, x):\r\n",
    "    # 루트 노드를 찾을 때까지 재귀 호출\r\n",
    "    if parent[x] !=  x:\r\n",
    "        parent[x] = find_parent(parent, parent[x])\r\n",
    "    return parent[x]\r\n",
    "\r\n",
    "# 두 원소가 속한 집합을 합치기\r\n",
    "def union_parent(parent, a, b):\r\n",
    "    a = find_parent(parent, a)\r\n",
    "    b = find_parent(parent, b)\r\n",
    "    if a < b:\r\n",
    "        parent[b] = a\r\n",
    "    else:parent[a] = b\r\n",
    "\r\n",
    "# 노드의 개수와 간선(Union 연산)의 개수 입력 받기\r\n",
    "v, e = map(int, input().split())\r\n",
    "parent = [0] * (v + 1) # 부모 테이블 초기화하기\r\n",
    "\r\n",
    "# 부모 테이블 상에서 부모를 자기 자신으로 초기화\r\n",
    "for i in range(1, v + 1):\r\n",
    "    parent[i] = i\r\n",
    "\r\n",
    "cycle = False # 사이클 발생 여부\r\n",
    "\r\n",
    "for i in range(e):\r\n",
    "    a, b = map(int, input().split())\r\n",
    "    # 사이클이 발생한 경우 종료\r\n",
    "    if find_parent(parent, a) == find_parent(parent, b):\r\n",
    "        cycle = True\r\n",
    "        break\r\n",
    "    # 사이클이 발생하지 않았다면 합집합(Union) 연산 수행\r\n",
    "    else:\r\n",
    "        union_parent(parent, a, b)\r\n",
    "\r\n",
    "if cycle:\r\n",
    "    print(\"사이클이 발생했습니다.\")\r\n",
    "else:\r\n",
    "    print(\"사이클이 발생하지 않았습니다.\")"
   ],
   "outputs": [
    {
     "output_type": "stream",
     "name": "stdout",
     "text": [
      "사이클이 발생했습니다.\n"
     ]
    }
   ],
   "metadata": {}
  },
  {
   "cell_type": "markdown",
   "source": [
    "# <span style=\"color:skyblue\"><</span> 2 <span style=\"color:skyblue\">></span> 팀 결성"
   ],
   "metadata": {}
  },
  {
   "cell_type": "code",
   "execution_count": null,
   "source": [],
   "outputs": [],
   "metadata": {}
  }
 ]
}