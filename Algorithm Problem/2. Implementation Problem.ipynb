{
 "cells": [
  {
   "cell_type": "markdown",
   "source": [
    "# <span style=\"color:skyblue\">A 07</span> 럭키 스트레이트"
   ],
   "metadata": {}
  },
  {
   "cell_type": "code",
   "execution_count": 26,
   "source": [
    "def lucky_straight(N):\r\n",
    "    x = int(len(N) / 2)\r\n",
    "\r\n",
    "    front = N[:x]\r\n",
    "    back = N[x:]\r\n",
    "\r\n",
    "    front_sum = 0\r\n",
    "    back_sum = 0\r\n",
    "\r\n",
    "    for i in front:\r\n",
    "        front_sum += int(i)\r\n",
    "\r\n",
    "    for i in back:\r\n",
    "        back_sum += int(i)\r\n",
    "\r\n",
    "    if front_sum == back_sum:\r\n",
    "        print(\"LUCKY\")\r\n",
    "    else:\r\n",
    "        print(\"READY\")"
   ],
   "outputs": [],
   "metadata": {}
  },
  {
   "cell_type": "markdown",
   "source": [
    "## <span style=\"color:black; background:skyblue\"><b>입력 조건</b></span>\r\n",
    "• 첫째 줄에 점수 N이 정수로 주어집니다. (10 ≤ N ≤ 99,999,999) 단, 점수 N의 자릿수는 항상 짝수 형태로만 주어집니다. 예를 들어 자릿수가 5인 12,345와 같은 수는 입력으로 들어오지 않습니다.\r\n",
    "</br>\r\n",
    "</br>\r\n",
    "\r\n",
    "## <span style=\"color:black; background:skyblue\"><b>출력 조건</b></span>\r\n",
    "• 첫째 줄에 럭키 스트레이트를 사용할 수 있다면 \"LUCKY\"를, 사용할 수 없다면 \"READY\"를 출력합니다."
   ],
   "metadata": {}
  },
  {
   "cell_type": "code",
   "execution_count": 28,
   "source": [
    "# N = input()\r\n",
    "N = \"123402\"\r\n",
    "\r\n",
    "lucky_straight(N)"
   ],
   "outputs": [
    {
     "output_type": "stream",
     "name": "stdout",
     "text": [
      "77 55\n",
      "READY\n"
     ]
    }
   ],
   "metadata": {}
  },
  {
   "cell_type": "markdown",
   "source": [
    "# <span style=\"color:skyblue\">A 08</span> 문자열 재정렬"
   ],
   "metadata": {}
  },
  {
   "cell_type": "code",
   "execution_count": null,
   "source": [
    "def rearrange_string(S):\r\n",
    "    import re\r\n",
    "\r\n",
    "    numbers = re.sub(r'[^0-9]', '', S)\r\n",
    "    alphabet = re.sub(r'[^A-Z]', '', S)\r\n",
    "\r\n",
    "    numbers_end = str(sum(list(map(int, numbers))))\r\n",
    "    alphabet_end = ''.join(sorted(list(map(str, alphabet))))\r\n",
    "\r\n",
    "    print(alphabet_end + numbers_end)"
   ],
   "outputs": [],
   "metadata": {}
  },
  {
   "cell_type": "markdown",
   "source": [
    "## <span style=\"color:black; background:skyblue\"><b>입력 조건</b></span>\r\n",
    "• 첫째 줄에 하나의 문자열 S가 주어집니다. (1 ≤ S의 길이 ≤ 10,000)\r\n",
    "</br>\r\n",
    "</br>\r\n",
    "\r\n",
    "## <span style=\"color:black; background:skyblue\"><b>출력 조건</b></span>\r\n",
    "• 첫째 줄에 문제에서 요구하는 정답을 출력합니다."
   ],
   "metadata": {}
  },
  {
   "cell_type": "code",
   "execution_count": null,
   "source": [
    "# S = \"K1KA5CB7\"\r\n",
    "S = \"AJKDLSI412K4JSJ9D\"\r\n",
    "\r\n",
    "rearrange_string(S)"
   ],
   "outputs": [],
   "metadata": {}
  },
  {
   "cell_type": "markdown",
   "source": [
    "# <span style=\"color:skyblue\">A 08</span> 문자열 재정렬"
   ],
   "metadata": {}
  },
  {
   "cell_type": "markdown",
   "source": [
    "## <span style=\"color:black; background:skyblue\"><b>입력 조건</b></span>\r\n",
    "• 첫째 줄에 점수 N이 정수로 주어집니다. (10 ≤ N ≤ 99,999,999) 단, 점수 N의 자릿수는 항상 짝수 형태로만 주어집니다. 예를 들어 자릿수가 5인 12,345와 같은 수는 입력으로 들어오지 않습니다.\r\n",
    "\r\n",
    "• 둘째 줄에 각 모험가의 공포도의 값을 N 이하의 자연수로 주어지며. 각 자연수는 공백으로 구분합니다.\r\n",
    "</br>\r\n",
    "</br>\r\n",
    "\r\n",
    "## <span style=\"color:black; background:skyblue\"><b>출력 조건</b></span>\r\n",
    "• 첫째 줄에 럭키 스트레이트를 사용할 수 있다면 \"LUCKY\"를, 사용할 수 없다면 \"READY\"를 출력합니다."
   ],
   "metadata": {}
  }
 ],
 "metadata": {
  "orig_nbformat": 4,
  "language_info": {
   "name": "python",
   "version": "3.8.3",
   "mimetype": "text/x-python",
   "codemirror_mode": {
    "name": "ipython",
    "version": 3
   },
   "pygments_lexer": "ipython3",
   "nbconvert_exporter": "python",
   "file_extension": ".py"
  },
  "kernelspec": {
   "name": "python3",
   "display_name": "Python 3.8.3 64-bit ('base': conda)"
  },
  "interpreter": {
   "hash": "c469c999aae2bf6d578d6881606ced546d1546d312a4811937df5b24665ee8bc"
  }
 },
 "nbformat": 4,
 "nbformat_minor": 2
}