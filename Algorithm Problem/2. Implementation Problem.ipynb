{
 "cells": [
  {
   "cell_type": "markdown",
   "source": [
    "# <span style=\"color:skyblue\">A 07</span> 럭키 스트레이트"
   ],
   "metadata": {}
  },
  {
   "cell_type": "code",
   "execution_count": 26,
   "source": [
    "def lucky_straight(N):\r\n",
    "    x = int(len(N) / 2)\r\n",
    "\r\n",
    "    front = N[:x]\r\n",
    "    back = N[x:]\r\n",
    "\r\n",
    "    front_sum = 0\r\n",
    "    back_sum = 0\r\n",
    "\r\n",
    "    for i in front:\r\n",
    "        front_sum += int(i)\r\n",
    "\r\n",
    "    for i in back:\r\n",
    "        back_sum += int(i)\r\n",
    "\r\n",
    "    if front_sum == back_sum:\r\n",
    "        print(\"LUCKY\")\r\n",
    "    else:\r\n",
    "        print(\"READY\")"
   ],
   "outputs": [],
   "metadata": {}
  },
  {
   "cell_type": "markdown",
   "source": [
    "## <span style=\"color:black; background:skyblue\"><b>입력 조건</b></span>\r\n",
    "• 첫째 줄에 점수 N이 정수로 주어집니다. (10 ≤ N ≤ 99,999,999) 단, 점수 N의 자릿수는 항상 짝수 형태로만 주어집니다. 예를 들어 자릿수가 5인 12,345와 같은 수는 입력으로 들어오지 않습니다.\r\n",
    "</br>\r\n",
    "</br>\r\n",
    "\r\n",
    "## <span style=\"color:black; background:skyblue\"><b>출력 조건</b></span>\r\n",
    "• 첫째 줄에 럭키 스트레이트를 사용할 수 있다면 \"LUCKY\"를, 사용할 수 없다면 \"READY\"를 출력합니다."
   ],
   "metadata": {}
  },
  {
   "cell_type": "code",
   "execution_count": 28,
   "source": [
    "# N = input()\r\n",
    "N = \"123402\"\r\n",
    "\r\n",
    "lucky_straight(N)"
   ],
   "outputs": [
    {
     "output_type": "stream",
     "name": "stdout",
     "text": [
      "77 55\n",
      "READY\n"
     ]
    }
   ],
   "metadata": {}
  },
  {
   "cell_type": "markdown",
   "source": [
    "# <span style=\"color:skyblue\">A 08</span> 문자열 재정렬"
   ],
   "metadata": {}
  },
  {
   "cell_type": "code",
   "execution_count": 1,
   "source": [
    "def rearrange_string(S):\r\n",
    "    import re\r\n",
    "\r\n",
    "    numbers = re.sub(r'[^0-9]', '', S)\r\n",
    "    alphabet = re.sub(r'[^A-Z]', '', S)\r\n",
    "\r\n",
    "    numbers_end = str(sum(list(map(int, numbers))))\r\n",
    "    alphabet_end = ''.join(sorted(list(map(str, alphabet))))\r\n",
    "\r\n",
    "    print(alphabet_end + numbers_end)"
   ],
   "outputs": [],
   "metadata": {}
  },
  {
   "cell_type": "markdown",
   "source": [
    "## <span style=\"color:black; background:skyblue\"><b>입력 조건</b></span>\r\n",
    "• 첫째 줄에 하나의 문자열 S가 주어집니다. (1 ≤ S의 길이 ≤ 10,000)\r\n",
    "</br>\r\n",
    "</br>\r\n",
    "\r\n",
    "## <span style=\"color:black; background:skyblue\"><b>출력 조건</b></span>\r\n",
    "• 첫째 줄에 문제에서 요구하는 정답을 출력합니다."
   ],
   "metadata": {}
  },
  {
   "cell_type": "code",
   "execution_count": 2,
   "source": [
    "# S = \"K1KA5CB7\"\r\n",
    "S = \"AJKDLSI412K4JSJ9D\"\r\n",
    "\r\n",
    "rearrange_string(S)"
   ],
   "outputs": [
    {
     "output_type": "stream",
     "name": "stdout",
     "text": [
      "ADDIJJJKKLSS20\n"
     ]
    }
   ],
   "metadata": {}
  },
  {
   "cell_type": "markdown",
   "source": [
    "# <span style=\"color:skyblue\">A 09</span> 문자열 압축"
   ],
   "metadata": {}
  },
  {
   "cell_type": "code",
   "execution_count": 61,
   "source": [
    "def solution(s):\r\n",
    "    answer = 999999\r\n",
    "\r\n",
    "    for j in range(1, len(s) // 2 + 1):\r\n",
    "\r\n",
    "        cutting = j\r\n",
    "        a = s[0 : 0 + cutting]\r\n",
    "        count = 0\r\n",
    "        cnt = 0\r\n",
    "        cnt_list = []\r\n",
    "        temp = 0\r\n",
    "\r\n",
    "        for i in range(len(s)):\r\n",
    "            if count > 0:\r\n",
    "                count -= 1\r\n",
    "                continue\r\n",
    "\r\n",
    "            if a == s[i : i + cutting]:\r\n",
    "                cnt += 1\r\n",
    "            else:\r\n",
    "                cnt_list.append(cnt)\r\n",
    "                a = s[i : i + cutting]\r\n",
    "                cnt = 1\r\n",
    "\r\n",
    "            count = cutting -1\r\n",
    "        \r\n",
    "        cnt_list.append(cnt)\r\n",
    "\r\n",
    "        for i in cnt_list:\r\n",
    "            if i > 999:\r\n",
    "                temp += cutting + 4\r\n",
    "            elif i > 99:\r\n",
    "                temp += cutting + 3\r\n",
    "            elif i > 9:\r\n",
    "                temp += cutting + 2\r\n",
    "            elif i > 1:\r\n",
    "                temp += cutting + 1\r\n",
    "            else:\r\n",
    "                temp += cutting\r\n",
    "        \r\n",
    "        temp -= cutting - len(a)\r\n",
    "\r\n",
    "        if temp < answer:\r\n",
    "            if cnt_list[0] == 1:\r\n",
    "                answer = len(s)\r\n",
    "            else:\r\n",
    "                answer = temp\r\n",
    "\r\n",
    "    return answer\r\n",
    "\r\n",
    "# # 7\r\n",
    "# s = \"aabbaccc\" # 2a2ba3c\r\n",
    "# # 9\r\n",
    "# s = \"ababcdcdababcdcd\" # 2ababcdcd\r\n",
    "# # 8\r\n",
    "# s = \"abcabcdede\"\r\n",
    "# # 14\r\n",
    "# s = \"abcabcabcabcdededededede\"\r\n",
    "# # 17\r\n",
    "# s = \"xababcdcdababcdcd\"\r\n",
    "s = \"baaaaaa\"\r\n",
    "solution(s)"
   ],
   "outputs": [
    {
     "output_type": "execute_result",
     "data": {
      "text/plain": [
       "7"
      ]
     },
     "metadata": {},
     "execution_count": 61
    }
   ],
   "metadata": {}
  },
  {
   "cell_type": "markdown",
   "source": [
    "https://programmers.co.kr/learn/courses/30/lessons/60057\r\n",
    "## <span style=\"color:black; background:skyblue\"><b>제한 사항</b></span>\r\n",
    "• s의 길이는 1 이상 1,000 이하입니다.\r\n",
    "\r\n",
    "• s는 알파벳 소문자로만 이루어져 있습니다.\r\n",
    "</br>"
   ],
   "metadata": {}
  },
  {
   "cell_type": "code",
   "execution_count": null,
   "source": [
    "def solution(s):\r\n",
    "    answer = 999999\r\n",
    "\r\n",
    "    for j in range(1, len(s) // 2 + 1):\r\n",
    "\r\n",
    "        cutting = j\r\n",
    "        a = s[0 : 0 + cutting]\r\n",
    "        count = 0\r\n",
    "        cnt = 0\r\n",
    "        cnt_list = []\r\n",
    "        temp = 0\r\n",
    "\r\n",
    "        for i in range(len(s)):\r\n",
    "            if count > 0:\r\n",
    "                count -= 1\r\n",
    "                continue\r\n",
    "\r\n",
    "            if a == s[i : i + cutting]:\r\n",
    "                cnt += 1\r\n",
    "            else:\r\n",
    "                cnt_list.append(cnt)\r\n",
    "                a = s[i : i + cutting]\r\n",
    "                cnt = 1\r\n",
    "\r\n",
    "            count = cutting -1\r\n",
    "        \r\n",
    "        cnt_list.append(cnt)\r\n",
    "\r\n",
    "        cha = cutting - len(a)\r\n",
    "        \r\n",
    "        for i in cnt_list:\r\n",
    "            if i > 999:\r\n",
    "                temp += cutting + 4\r\n",
    "            elif i > 99:\r\n",
    "                temp += cutting + 3\r\n",
    "            elif i > 9:\r\n",
    "                temp += cutting + 2\r\n",
    "            elif i > 1:\r\n",
    "                temp += cutting + 1\r\n",
    "            else:\r\n",
    "                temp += cutting\r\n",
    "        \r\n",
    "        temp -= cha\r\n",
    "\r\n",
    "        if temp < answer:\r\n",
    "            answer = temp\r\n",
    "\r\n",
    "    return answer"
   ],
   "outputs": [],
   "metadata": {}
  },
  {
   "cell_type": "markdown",
   "source": [
    "# <span style=\"color:skyblue\">A 10</span> 자물쇠와 열쇠"
   ],
   "metadata": {}
  },
  {
   "cell_type": "markdown",
   "source": [
    "## <span style=\"color:black; background:skyblue\"><b>입력 조건</b></span>\r\n",
    "• 첫째 줄에 점수 N이 정수로 주어집니다. (10 ≤ N ≤ 99,999,999) 단, 점수 N의 자릿수는 항상 짝수 형태로만 주어집니다. 예를 들어 자릿수가 5인 12,345와 같은 수는 입력으로 들어오지 않습니다.\r\n",
    "\r\n",
    "• 둘째 줄에 각 모험가의 공포도의 값을 N 이하의 자연수로 주어지며. 각 자연수는 공백으로 구분합니다.\r\n",
    "</br>\r\n",
    "</br>\r\n",
    "\r\n",
    "## <span style=\"color:black; background:skyblue\"><b>출력 조건</b></span>\r\n",
    "• 첫째 줄에 럭키 스트레이트를 사용할 수 있다면 \"LUCKY\"를, 사용할 수 없다면 \"READY\"를 출력합니다."
   ],
   "metadata": {}
  },
  {
   "cell_type": "markdown",
   "source": [
    "# <span style=\"color:skyblue\">A 11</span> 뱀"
   ],
   "metadata": {}
  },
  {
   "cell_type": "markdown",
   "source": [
    "# <span style=\"color:skyblue\">A 12</span> 기둥과 보 설치"
   ],
   "metadata": {}
  },
  {
   "cell_type": "markdown",
   "source": [
    "# <span style=\"color:skyblue\">A 13</span> 치킨 배달"
   ],
   "metadata": {}
  },
  {
   "cell_type": "markdown",
   "source": [
    "# <span style=\"color:skyblue\">A 14</span> 외벽 점검"
   ],
   "metadata": {}
  }
 ],
 "metadata": {
  "orig_nbformat": 4,
  "language_info": {
   "name": "python",
   "version": "3.8.8",
   "mimetype": "text/x-python",
   "codemirror_mode": {
    "name": "ipython",
    "version": 3
   },
   "pygments_lexer": "ipython3",
   "nbconvert_exporter": "python",
   "file_extension": ".py"
  },
  "kernelspec": {
   "name": "python3",
   "display_name": "Python 3.8.8 64-bit ('base': conda)"
  },
  "interpreter": {
   "hash": "07efdcd4b820c98a756949507a4d29d7862823915ec7477944641bea022f4f62"
  }
 },
 "nbformat": 4,
 "nbformat_minor": 2
}