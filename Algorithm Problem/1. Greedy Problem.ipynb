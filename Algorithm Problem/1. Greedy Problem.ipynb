{
 "cells": [
  {
   "cell_type": "markdown",
   "source": [
    "# <span style=\"color:skyblue\">A 01</span> 모험가 길드"
   ],
   "metadata": {}
  },
  {
   "cell_type": "code",
   "execution_count": 10,
   "source": [
    "def countGroup(adventurerGroup):\r\n",
    "    # 3. 모험가들의 공포도 오름차순으로 정렬\r\n",
    "    adventurerGroup.sort()\r\n",
    "\r\n",
    "    # 4. 공포도가 적은 모험가들부터 그룹 생성\r\n",
    "\r\n",
    "    # 4-1. 모험가 그룹 list와 그룹 count 변수 생성\r\n",
    "    groupMember = []\r\n",
    "    numberOfGroup = 0\r\n",
    "\r\n",
    "    # 4-2. 모험가의 수만큼 반복문을 돌면서 list에 해당 공포도 추가\r\n",
    "    for i in adventurerGroup:\r\n",
    "        groupMember.append(i)\r\n",
    "        # 4-3. list의 길이와 max 공포도가 같은 경우 완성된 그룹으로 간주하고 list 초기화 및 그룹 수 + 1\r\n",
    "        if len(groupMember) >= groupMember[-1]:\r\n",
    "            groupMember = []\r\n",
    "            numberOfGroup += 1\r\n",
    "\r\n",
    "    print(numberOfGroup)"
   ],
   "outputs": [],
   "metadata": {}
  },
  {
   "cell_type": "markdown",
   "source": [
    "## <span style=\"color:black; background:skyblue\"><b>입력 조건</b></span>\r\n",
    "• 첫째 줄에 모험가의 수 N이 주어집니다. (1 ≤ N ≤ 100,000)\r\n",
    "\r\n",
    "• 둘째 줄에 각 모험가의 공포도의 값을 N 이하의 자연수로 주어지며. 각 자연수는 공백으로 구분합니다.\r\n",
    "</br>\r\n",
    "</br>\r\n",
    "\r\n",
    "## <span style=\"color:black; background:skyblue\"><b>출력 조건</b></span>\r\n",
    "• 여행을 떠날 수 있는 그룹 수의 최댓값을 출력합니다."
   ],
   "metadata": {}
  },
  {
   "cell_type": "code",
   "execution_count": 11,
   "source": [
    "# 1. 모험가의 수 입력\r\n",
    "numberOfAdventurers = int(input())\r\n",
    "\r\n",
    "# 2. 모험가의 수만큼 공포도 입력\r\n",
    "adventurerGroup = []\r\n",
    "degreeOfFear = list(map(int, input().split()))\r\n",
    "for i in range(numberOfAdventurers):\r\n",
    "    adventurerGroup.append(degreeOfFear[i])\r\n",
    "\r\n",
    "# ※ 입력값 직접 지정\r\n",
    "# adventurerGroup = [2, 3, 1, 2, 2]\r\n",
    "# adventurerGroup = [1, 1, 2, 2, 2, 3, 4, 5, 6, 7]\r\n",
    "\r\n",
    "countGroup(adventurerGroup)"
   ],
   "outputs": [
    {
     "output_type": "stream",
     "name": "stdout",
     "text": [
      "2\n"
     ]
    }
   ],
   "metadata": {}
  },
  {
   "cell_type": "markdown",
   "source": [
    "# <span style=\"color:skyblue\">A 02</span> 곱하기 혹은 더하기"
   ],
   "metadata": {}
  },
  {
   "cell_type": "code",
   "execution_count": 1,
   "source": [
    "def multiplyOrAdd(stringS):\r\n",
    "    # 2. 문자열 stringS를 계산할 변수 maxNumber 생성\r\n",
    "    maxNumber = 0\r\n",
    "\r\n",
    "    # 3-1. stringS의 길이만큼 반복문 실행\r\n",
    "    for i in stringS:\r\n",
    "        # 3-2. 반복문이 처음일 경우는 maxNumber를 i로 초기화\r\n",
    "        if maxNumber == 0:\r\n",
    "            maxNumber = int(i)\r\n",
    "\r\n",
    "        # 3-3. 반복문 중 i가 0이나 1일 경우는 +\r\n",
    "        elif int(i) == 0 or int(i) == 1:\r\n",
    "            maxNumber += int(i)\r\n",
    "\r\n",
    "        # 3-4. 반복문 중 i가 0이 아닐 경우는 *\r\n",
    "        else:\r\n",
    "            maxNumber *= int(i)\r\n",
    "\r\n",
    "    print(maxNumber)"
   ],
   "outputs": [],
   "metadata": {}
  },
  {
   "cell_type": "markdown",
   "source": [
    "## <span style=\"color:black; background:skyblue\"><b>입력 조건</b></span>\r\n",
    "• 첫째 줄에 여러 개의 숫자로 구성된 하나의 문자열 S가 주어집니다. (1 ≤ S의 길이 ≤ 20)\r\n",
    "</br></br>\r\n",
    "\r\n",
    "## <span style=\"color:black; background:skyblue\"><b>출력 조건</b></span>\r\n",
    "• 첫째 줄에 만들어질 수 있는 가장 큰 수를 출력합니다."
   ],
   "metadata": {}
  },
  {
   "cell_type": "code",
   "execution_count": 3,
   "source": [
    "# 1. 숫자로 이루어진 문자열 stringS 입력\r\n",
    "stringS = input()\r\n",
    "\r\n",
    "multiplyOrAdd(stringS)"
   ],
   "outputs": [
    {
     "output_type": "stream",
     "name": "stdout",
     "text": [
      "36\n"
     ]
    }
   ],
   "metadata": {}
  },
  {
   "cell_type": "markdown",
   "source": [
    "# <span style=\"color:skyblue\">A 03</span> 문자열 뒤집기"
   ],
   "metadata": {}
  },
  {
   "cell_type": "code",
   "execution_count": 10,
   "source": [
    "def flipString(stringS):\r\n",
    "    count = [0, 0]\r\n",
    "    tmp = -1\r\n",
    "\r\n",
    "    for i in stringS:\r\n",
    "        j = int(i)\r\n",
    "        if tmp != j:\r\n",
    "            tmp = j\r\n",
    "            if j == 0:\r\n",
    "                count[0] += 1\r\n",
    "            else:\r\n",
    "                count[1] += 1\r\n",
    "\r\n",
    "    print(min(count))"
   ],
   "outputs": [],
   "metadata": {}
  },
  {
   "cell_type": "markdown",
   "source": [
    "## <span style=\"color:black; background:skyblue\"><b>입력 조건</b></span>\r\n",
    "• 첫째 줄에 0과 1로만 이루어진 문자열 S가 주어집니다. S의 길이는 100만보다 작습니다.\r\n",
    "</br></br>\r\n",
    "\r\n",
    "## <span style=\"color:black; background:skyblue\"><b>출력 조건</b></span>\r\n",
    "• 첫재 줄에 다솜이가 해야 하는 행동의 최소 횟수를 출력합니다."
   ],
   "metadata": {}
  },
  {
   "cell_type": "code",
   "execution_count": 11,
   "source": [
    "# stringS = input()\r\n",
    "stringS = \"0001100\"\r\n",
    "\r\n",
    "flipString(stringS)"
   ],
   "outputs": [
    {
     "output_type": "stream",
     "name": "stdout",
     "text": [
      "1\n"
     ]
    }
   ],
   "metadata": {}
  },
  {
   "cell_type": "markdown",
   "source": [
    "# <span style=\"color:skyblue\">A 04</span> 만들 수 없는 금액"
   ],
   "metadata": {}
  },
  {
   "cell_type": "code",
   "execution_count": 31,
   "source": [
    "from itertools import combinations\r\n",
    "\r\n",
    "def amountNotFound(coin):\r\n",
    "    coin_set = set()\r\n",
    "\r\n",
    "    for i in range(len(coin)):\r\n",
    "        for j in combinations(coin, i + 1):\r\n",
    "            coin_set.add(sum(j))\r\n",
    "\r\n",
    "    coin_list = list(coin_set)\r\n",
    "\r\n",
    "    cnt = 1\r\n",
    "    while True:\r\n",
    "        if coin_list[cnt - 1] != cnt:\r\n",
    "            break\r\n",
    "        cnt += 1\r\n",
    "\r\n",
    "    print(cnt)"
   ],
   "outputs": [],
   "metadata": {}
  },
  {
   "cell_type": "markdown",
   "source": [
    "## <span style=\"color:black; background:skyblue\"><b>입력 조건</b></span>\r\n",
    "• 첫째 줄에는 동전의 개수를 나타내는 양의 정수 N이 주어집니다. (1 ≤ N ≤ 1,000)</br>\r\n",
    "• 둘째 줄에는 각 동전의 화폐 단위를 나타내는 N개의 자연수가 주어지며, 각 자연수는 공백으로 구분합니다. 이때, 각 화폐 단위는 1,000,000 이하의 자연수입니다.\r\n",
    "</br></br>\r\n",
    "\r\n",
    "## <span style=\"color:black; background:skyblue\"><b>출력 조건</b></span>\r\n",
    "• 첫재 줄에 주어진 동전들로 만들 수 없는 양의 정수 금액 중 최솟값을 출력합니다."
   ],
   "metadata": {}
  },
  {
   "cell_type": "code",
   "execution_count": 32,
   "source": [
    "# 1. 입력\r\n",
    "# coin = [3, 2, 1, 1, 9]\r\n",
    "coin = [1, 2, 3, 4]\r\n",
    "# coin = input()\r\n",
    "\r\n",
    "amountNotFound(coin)"
   ],
   "outputs": [
    {
     "output_type": "stream",
     "name": "stdout",
     "text": [
      "[1, 2, 3, 4, 5, 6, 7, 8, 9, 10]\n"
     ]
    },
    {
     "output_type": "error",
     "ename": "KeyboardInterrupt",
     "evalue": "",
     "traceback": [
      "\u001b[1;31m---------------------------------------------------------------------------\u001b[0m",
      "\u001b[1;31mKeyboardInterrupt\u001b[0m                         Traceback (most recent call last)",
      "\u001b[1;32m<ipython-input-32-756b3498e3f0>\u001b[0m in \u001b[0;36m<module>\u001b[1;34m\u001b[0m\n\u001b[0;32m      4\u001b[0m \u001b[1;31m# coin = input()\u001b[0m\u001b[1;33m\u001b[0m\u001b[1;33m\u001b[0m\u001b[1;33m\u001b[0m\u001b[0m\n\u001b[0;32m      5\u001b[0m \u001b[1;33m\u001b[0m\u001b[0m\n\u001b[1;32m----> 6\u001b[1;33m \u001b[0mamountNotFound\u001b[0m\u001b[1;33m(\u001b[0m\u001b[0mcoin\u001b[0m\u001b[1;33m)\u001b[0m\u001b[1;33m\u001b[0m\u001b[1;33m\u001b[0m\u001b[0m\n\u001b[0m",
      "\u001b[1;32m<ipython-input-31-9fde67b2d81d>\u001b[0m in \u001b[0;36mamountNotFound\u001b[1;34m(coin)\u001b[0m\n\u001b[0;32m     13\u001b[0m     \u001b[0mcnt\u001b[0m \u001b[1;33m=\u001b[0m \u001b[1;36m1\u001b[0m\u001b[1;33m\u001b[0m\u001b[1;33m\u001b[0m\u001b[0m\n\u001b[0;32m     14\u001b[0m     \u001b[1;32mwhile\u001b[0m \u001b[1;32mTrue\u001b[0m\u001b[1;33m:\u001b[0m\u001b[1;33m\u001b[0m\u001b[1;33m\u001b[0m\u001b[0m\n\u001b[1;32m---> 15\u001b[1;33m         \u001b[1;32mif\u001b[0m \u001b[0mcnt\u001b[0m \u001b[1;33m<=\u001b[0m \u001b[0mlen\u001b[0m\u001b[1;33m(\u001b[0m\u001b[0mcoin_list\u001b[0m\u001b[1;33m)\u001b[0m \u001b[1;32mand\u001b[0m \u001b[0mcoin_list\u001b[0m\u001b[1;33m[\u001b[0m\u001b[0mcnt\u001b[0m \u001b[1;33m-\u001b[0m \u001b[1;36m1\u001b[0m\u001b[1;33m]\u001b[0m \u001b[1;33m!=\u001b[0m \u001b[0mcnt\u001b[0m\u001b[1;33m:\u001b[0m\u001b[1;33m\u001b[0m\u001b[1;33m\u001b[0m\u001b[0m\n\u001b[0m\u001b[0;32m     16\u001b[0m             \u001b[1;32mbreak\u001b[0m\u001b[1;33m\u001b[0m\u001b[1;33m\u001b[0m\u001b[0m\n\u001b[0;32m     17\u001b[0m         \u001b[1;31m# if cnt > len(coin_list):\u001b[0m\u001b[1;33m\u001b[0m\u001b[1;33m\u001b[0m\u001b[1;33m\u001b[0m\u001b[0m\n",
      "\u001b[1;31mKeyboardInterrupt\u001b[0m: "
     ]
    }
   ],
   "metadata": {}
  },
  {
   "cell_type": "markdown",
   "source": [
    "# <span style=\"color:skyblue\">A 05</span> 볼링공 고르기"
   ],
   "metadata": {}
  },
  {
   "cell_type": "code",
   "execution_count": 4,
   "source": [
    "def choosingBowlingBall(weight):\r\n",
    "\r\n",
    "    cnt = 0\r\n",
    "\r\n",
    "    for i in range(len(weight)):\r\n",
    "        for j in range(i + 1, len(weight)):\r\n",
    "            if weight[i] != weight[j]:\r\n",
    "                cnt += 1\r\n",
    "\r\n",
    "    print(cnt)"
   ],
   "outputs": [],
   "metadata": {}
  },
  {
   "cell_type": "markdown",
   "source": [
    "## <span style=\"color:black; background:skyblue\"><b>입력 조건</b></span>\r\n",
    "•  첫째 줄에 볼링공의 개수 N. 공의 최대 무게 M이 공백으로 구분되어 각각 자연수 형태로 주어집니다. (1 ≤ N ≤ 1,000, 1 ≤ M ≤ 10)</br>\r\n",
    "• 둘째 줄에 각 볼링공의 무게 K가 공백으로 구분되어 순서대로 자연수 형태로 주어집니다. (1 ≤ K ≤ M)\r\n",
    "</br></br>\r\n",
    "\r\n",
    "## <span style=\"color:black; background:skyblue\"><b>출력 조건</b></span>\r\n",
    "• 첫째 줄에 두 사람이 볼링공을 고르는 경우의 수를 출력합니다."
   ],
   "metadata": {}
  },
  {
   "cell_type": "code",
   "execution_count": 5,
   "source": [
    "weight = [1, 3, 2, 3, 2]\r\n",
    "# weight = [1, 5, 4, 3, 2, 4, 5, 2]\r\n",
    "\r\n",
    "choosingBowlingBall(weight)"
   ],
   "outputs": [
    {
     "output_type": "stream",
     "name": "stdout",
     "text": [
      "8\n"
     ]
    }
   ],
   "metadata": {}
  },
  {
   "cell_type": "markdown",
   "source": [
    "# <span style=\"color:skyblue\">A 06</span> 무지의 먹방 라이브"
   ],
   "metadata": {}
  },
  {
   "cell_type": "code",
   "execution_count": null,
   "source": [
    "def minus_round(food_times, k):\r\n",
    "\r\n",
    "    min_food = min(food_times)\r\n",
    "    print(\"min : \", min_food)\r\n",
    "    mock = k // len(food_times)\r\n",
    "    print(\"몫 : \", mock)\r\n",
    "    # namege = k % len(food_times)\r\n",
    "    # print(\"나머지 : \", namege)\r\n",
    "\r\n",
    "    print(food_times)\r\n",
    "    print(k)\r\n",
    "\r\n",
    "    if min_food >= mock:\r\n",
    "        if food_times[0] != mock:\r\n",
    "            for i in range(len(food_times)):\r\n",
    "                food_times[i] -= mock\r\n",
    "            k -= mock * len(food_times)\r\n",
    "    else:\r\n",
    "        if food_times[0] != min_food:\r\n",
    "            for i in range(len(food_times)):\r\n",
    "                food_times[i] -= min_food\r\n",
    "            k -= min_food * len(food_times)\r\n",
    "\r\n",
    "    print(food_times)\r\n",
    "    print(k)\r\n",
    "\r\n",
    "    return food_times, k\r\n",
    "\r\n",
    "def check_zero(food_times, answer):\r\n",
    "    len_food_times = len(food_times)\r\n",
    "    answer_plus_one = (answer + 1) % len_food_times\r\n",
    "\r\n",
    "    if answer == answer_plus_one + 1:\r\n",
    "        answer = 0\r\n",
    "\r\n",
    "    if food_times[answer_plus_one] == 0:\r\n",
    "        if answer == len_food_times:\r\n",
    "            return check_zero(food_times, 0)\r\n",
    "        return check_zero(food_times, answer_plus_one)\r\n",
    "    else:\r\n",
    "        return answer_plus_one\r\n",
    "\r\n",
    "def solution(food_times, k):\r\n",
    "    answer = 0\r\n",
    "    \r\n",
    "    if sum(food_times) <= k:\r\n",
    "        return -1\r\n",
    "\r\n",
    "    food_times, k = minus_round(food_times, k)\r\n",
    "\r\n",
    "    # k가 0이고 첫 번째 원소가 0일때\r\n",
    "    if food_times[0] == 0:\r\n",
    "        answer = check_zero(food_times, answer)\r\n",
    "\r\n",
    "    for _ in range(k):\r\n",
    "        food_times[answer] -= 1\r\n",
    "\r\n",
    "        answer = check_zero(food_times, answer)\r\n",
    "    print(food_times)\r\n",
    "        \r\n",
    "    return answer + 1\r\n",
    "\r\n",
    "\r\n",
    "food_times = [3, 1, 2]\r\n",
    "k = 5\r\n",
    "print(solution(food_times, k))"
   ],
   "outputs": [],
   "metadata": {}
  },
  {
   "cell_type": "markdown",
   "source": [
    "https://programmers.co.kr/learn/courses/30/lessons/42891\r\n",
    "\r\n",
    "## <span style=\"color:black; background:skyblue\"><b>입력 조건</b></span>\r\n",
    "• 첫째 줄에는 동전의 개수를 나타내는 양의 정수 N이 주어집니다. (1 ≤ N ≤ 1,000)</br>\r\n",
    "• 둘째 줄에는 각 동전의 화폐 단위를 나타내는 N개의 자연수가 주어지며, 각 자연수는 공백으로 구분합니다. 이때, 각 화폐 단위는 1,000,000 이하의 자연수입니다.\r\n",
    "</br></br>\r\n",
    "\r\n",
    "## <span style=\"color:black; background:skyblue\"><b>출력 조건</b></span>\r\n",
    "• 첫재 줄에 주어진 동전들로 만들 수 없는 양의 정수 금액 중 최솟값을 출력합니다."
   ],
   "metadata": {}
  },
  {
   "cell_type": "code",
   "execution_count": null,
   "source": [],
   "outputs": [],
   "metadata": {}
  }
 ],
 "metadata": {
  "orig_nbformat": 4,
  "language_info": {
   "name": "python",
   "version": "3.8.3",
   "mimetype": "text/x-python",
   "codemirror_mode": {
    "name": "ipython",
    "version": 3
   },
   "pygments_lexer": "ipython3",
   "nbconvert_exporter": "python",
   "file_extension": ".py"
  },
  "kernelspec": {
   "name": "python3",
   "display_name": "Python 3.8.3 64-bit ('base': conda)"
  },
  "interpreter": {
   "hash": "c469c999aae2bf6d578d6881606ced546d1546d312a4811937df5b24665ee8bc"
  }
 },
 "nbformat": 4,
 "nbformat_minor": 2
}