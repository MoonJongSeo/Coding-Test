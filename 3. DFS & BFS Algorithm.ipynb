{
 "metadata": {
  "language_info": {
   "codemirror_mode": {
    "name": "ipython",
    "version": 3
   },
   "file_extension": ".py",
   "mimetype": "text/x-python",
   "name": "python",
   "nbconvert_exporter": "python",
   "pygments_lexer": "ipython3",
   "version": "3.7.9"
  },
  "orig_nbformat": 2,
  "kernelspec": {
   "name": "python379jvsc74a57bd069212f882d919239973a505f79be5f487d0ea1712581324f4ed2b107edf27050",
   "display_name": "Python 3.7.9 64-bit (conda)"
  }
 },
 "nbformat": 4,
 "nbformat_minor": 2,
 "cells": [
  {
   "cell_type": "code",
   "execution_count": null,
   "metadata": {},
   "outputs": [],
   "source": [
    "# DFS 소스코드 예제\n",
    "\n",
    "# DFS 메서드 정의\n",
    "def dfs(graph, v, visited):\n",
    "    # 현재 노드를 방문 처리\n",
    "    visited[v] = True\n",
    "    print(v, end=' ')\n",
    "    # 현재 노드와 연결된 다른 노드를 재귀적으로 방문\n",
    "    for i in graph[v]:\n",
    "        if not visited[i]:\n",
    "            dfs(graph, i, visited)"
   ]
  },
  {
   "cell_type": "code",
   "execution_count": 6,
   "metadata": {},
   "outputs": [
    {
     "output_type": "stream",
     "name": "stdout",
     "text": [
      "1 2 7 6 8 3 4 5 "
     ]
    }
   ],
   "source": [
    "# DFS 소스코드 예제\n",
    "\n",
    "# 각 노드가 연결된 정보를 표현 (2차원 리스트)\n",
    "graph = [\n",
    "    [],\n",
    "    [2, 3, 8],\n",
    "    [1, 7],\n",
    "    [1, 4, 5],\n",
    "    [3, 5],\n",
    "    [3, 4],\n",
    "    [7],\n",
    "    [2, 6, 8],\n",
    "    [1, 7],\n",
    "]\n",
    "\n",
    "# 각 노드가 방문된 정보를 표현 (1차원 리스트)\n",
    "visited = [False] * 9\n",
    "\n",
    "# 정의된 DFS 함수 호출\n",
    "dfs(graph, 1, visited)"
   ]
  },
  {
   "cell_type": "code",
   "execution_count": 7,
   "metadata": {},
   "outputs": [],
   "source": [
    "# BFS 소스코드 예제\n",
    "\n",
    "from collections import deque\n",
    "\n",
    "# BFS 메서드 정의\n",
    "def bfs(graph, start, visited):\n",
    "    # 큐(Queue) 구현을 위해 deque 라이브러리 사용\n",
    "    queue = deque([start])\n",
    "    # 현재 노드를 방문 처리\n",
    "    visited[start] = True\n",
    "    # 큐가 빌 때까지 반복\n",
    "    while queue:\n",
    "        # 큐에서 하나의 원소를 뽑아 출려하기\n",
    "        v = queue.popleft()\n",
    "        print(v, end=' ')\n",
    "        # 아직 방문하지 않은 인접한 원소들을 큐에 삽입\n",
    "        for i in graph[v]:\n",
    "            if not visited[i]:\n",
    "                queue.append(i)\n",
    "                visited[i] = True"
   ]
  },
  {
   "cell_type": "code",
   "execution_count": 8,
   "metadata": {},
   "outputs": [
    {
     "output_type": "stream",
     "name": "stdout",
     "text": [
      "1 2 3 8 7 4 5 6 "
     ]
    }
   ],
   "source": [
    "# BFS 소스코드 예제\n",
    "\n",
    "# 각 노드가 연결된 정보를 표현 (2차원 리스트)\n",
    "graph = [\n",
    "    [],\n",
    "    [2, 3, 8],\n",
    "    [1, 7],\n",
    "    [1, 4, 5],\n",
    "    [3, 5],\n",
    "    [3, 4],\n",
    "    [7],\n",
    "    [2, 6, 8],\n",
    "    [1, 7],\n",
    "]\n",
    "\n",
    "# 각 노드가 방문된 정보를 표현 (1차원 리스트)\n",
    "visited = [False] * 9\n",
    "\n",
    "# 정의된 BFS 함수 호출\n",
    "bfs(graph, 1, visited)"
   ]
  },
  {
   "cell_type": "code",
   "execution_count": 29,
   "metadata": {},
   "outputs": [
    {
     "output_type": "error",
     "ename": "SyntaxError",
     "evalue": "invalid syntax (<ipython-input-29-88e373a7e542>, line 10)",
     "traceback": [
      "\u001b[1;36m  File \u001b[1;32m\"<ipython-input-29-88e373a7e542>\"\u001b[1;36m, line \u001b[1;32m10\u001b[0m\n\u001b[1;33m    elif graph[x + 1][y] == 0:\u001b[0m\n\u001b[1;37m       ^\u001b[0m\n\u001b[1;31mSyntaxError\u001b[0m\u001b[1;31m:\u001b[0m invalid syntax\n"
     ]
    }
   ],
   "source": [
    "def icecream(m, n, graph, visited):\n",
    "    for idx, content in enumerate(visited):\n",
    "        if not content:\n",
    "            x = idx // n\n",
    "            y = idx % n\n",
    "            \n",
    "            if graph[x][y] == 0:\n",
    "                if graph[x][y + 1] == 0:\n",
    "                    print('{0}, {1}는 {2}입니다.'.foramt(x, y + 1, graph[x][y + 1])\n",
    "                elif graph[x + 1][y] == 0:\n",
    "                    print('{0}, {1}는 {2}입니다.'.foramt(x, y + 1, graph[x + 1][y])\n",
    "                elif graph[x][y - 1] == 0:\n",
    "                    print('{0}, {1}는 {2}입니다.'.foramt(x, y + 1, graph[x][y - 1])\n",
    "                elif graph[x - 1][y] == 0:\n",
    "                    print('{0}, {1}는 {2}입니다.'.foramt(x, y + 1, graph[x - 1][y])\n",
    "                else:\n",
    "                    print('없습니다')\n",
    "\n",
    "                visited[idx] = True\n",
    "                print(visited)\n",
    "        else:\n",
    "            continue\n",
    "\n",
    "# def check(m, n, graph, visited, x, y, idx):\n",
    "#     if graph[x][y] == 0:\n",
    "#         if graph[x][y + 1] == 0:\n",
    "#             check(m, n, graph, visited, x, y + 1, (x * n + y + 1))\n",
    "#         else if graph[x + 1][y] == 0:\n",
    "#             check(m, n, graph, visited, x + 1, y, ((x + 1) * n + y))\n",
    "#         else if graph[x][y - 1] == 0:\n",
    "#             check(m, n, graph, visited, x, y - 1, (x * n + y - 1))\n",
    "#         else if graph[x - 1][y] == 0:\n",
    "#             check(m, n, graph, visited, x - 1, y, ((x - 1) * n + y))\n",
    "#         else:\n",
    "#             pass"
   ]
  },
  {
   "cell_type": "code",
   "execution_count": 30,
   "metadata": {},
   "outputs": [
    {
     "output_type": "stream",
     "name": "stdout",
     "text": [
      "0\n0\n1\n1\n0\n0\n0\n0\n1\n1\n1\n1\n1\n1\n1\n0\n0\n0\n0\n0\n"
     ]
    }
   ],
   "source": [
    "# 음료수 얼려 먹기\n",
    "\n",
    "# m, n = map(int, input().split())\n",
    "m, n = 4, 5\n",
    "\n",
    "graph = [\n",
    "    [0, 0, 1, 1, 0],\n",
    "    [0, 0, 0, 1, 1],\n",
    "    [1, 1, 1, 1, 1],\n",
    "    [0, 0, 0, 0, 0],\n",
    "]\n",
    "\n",
    "visited = [False] * (m * n)\n",
    "\n",
    "icecream(m, n, graph, visited)"
   ]
  },
  {
   "cell_type": "code",
   "execution_count": null,
   "metadata": {},
   "outputs": [],
   "source": []
  }
 ]
}