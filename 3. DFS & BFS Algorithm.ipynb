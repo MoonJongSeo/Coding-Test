{
 "metadata": {
  "language_info": {
   "codemirror_mode": {
    "name": "ipython",
    "version": 3
   },
   "file_extension": ".py",
   "mimetype": "text/x-python",
   "name": "python",
   "nbconvert_exporter": "python",
   "pygments_lexer": "ipython3",
   "version": "3.7.9"
  },
  "orig_nbformat": 2,
  "kernelspec": {
   "name": "python379jvsc74a57bd069212f882d919239973a505f79be5f487d0ea1712581324f4ed2b107edf27050",
   "display_name": "Python 3.7.9 64-bit (conda)"
  }
 },
 "nbformat": 4,
 "nbformat_minor": 2,
 "cells": [
  {
   "cell_type": "code",
   "execution_count": null,
   "metadata": {},
   "outputs": [],
   "source": [
    "# DFS 소스코드 예제\n",
    "\n",
    "# DFS 메서드 정의\n",
    "def dfs(graph, v, visited):\n",
    "    # 현재 노드를 방문 처리\n",
    "    visited[v] = True\n",
    "    print(v, end=' ')\n",
    "    # 현재 노드와 연결된 다른 노드를 재귀적으로 방문\n",
    "    for i in graph[v]:\n",
    "        if not visited[i]:\n",
    "            dfs(graph, i, visited)"
   ]
  },
  {
   "cell_type": "code",
   "execution_count": 6,
   "metadata": {},
   "outputs": [
    {
     "output_type": "stream",
     "name": "stdout",
     "text": [
      "1 2 7 6 8 3 4 5 "
     ]
    }
   ],
   "source": [
    "# DFS 소스코드 예제\n",
    "\n",
    "# 각 노드가 연결된 정보를 표현 (2차원 리스트)\n",
    "graph = [\n",
    "    [],\n",
    "    [2, 3, 8],\n",
    "    [1, 7],\n",
    "    [1, 4, 5],\n",
    "    [3, 5],\n",
    "    [3, 4],\n",
    "    [7],\n",
    "    [2, 6, 8],\n",
    "    [1, 7],\n",
    "]\n",
    "\n",
    "# 각 노드가 방문된 정보를 표현 (1차원 리스트)\n",
    "visited = [False] * 9\n",
    "\n",
    "# 정의된 DFS 함수 호출\n",
    "dfs(graph, 1, visited)"
   ]
  },
  {
   "cell_type": "code",
   "execution_count": 7,
   "metadata": {},
   "outputs": [],
   "source": [
    "# BFS 소스코드 예제\n",
    "\n",
    "from collections import deque\n",
    "\n",
    "# BFS 메서드 정의\n",
    "def bfs(graph, start, visited):\n",
    "    # 큐(Queue) 구현을 위해 deque 라이브러리 사용\n",
    "    queue = deque([start])\n",
    "    # 현재 노드를 방문 처리\n",
    "    visited[start] = True\n",
    "    # 큐가 빌 때까지 반복\n",
    "    while queue:\n",
    "        # 큐에서 하나의 원소를 뽑아 출려하기\n",
    "        v = queue.popleft()\n",
    "        print(v, end=' ')\n",
    "        # 아직 방문하지 않은 인접한 원소들을 큐에 삽입\n",
    "        for i in graph[v]:\n",
    "            if not visited[i]:\n",
    "                queue.append(i)\n",
    "                visited[i] = True"
   ]
  },
  {
   "cell_type": "code",
   "execution_count": 8,
   "metadata": {},
   "outputs": [
    {
     "output_type": "stream",
     "name": "stdout",
     "text": [
      "1 2 3 8 7 4 5 6 "
     ]
    }
   ],
   "source": [
    "# BFS 소스코드 예제\n",
    "\n",
    "# 각 노드가 연결된 정보를 표현 (2차원 리스트)\n",
    "graph = [\n",
    "    [],\n",
    "    [2, 3, 8],\n",
    "    [1, 7],\n",
    "    [1, 4, 5],\n",
    "    [3, 5],\n",
    "    [3, 4],\n",
    "    [7],\n",
    "    [2, 6, 8],\n",
    "    [1, 7],\n",
    "]\n",
    "\n",
    "# 각 노드가 방문된 정보를 표현 (1차원 리스트)\n",
    "visited = [False] * 9\n",
    "\n",
    "# 정의된 BFS 함수 호출\n",
    "bfs(graph, 1, visited)"
   ]
  },
  {
   "cell_type": "code",
   "execution_count": 1,
   "metadata": {},
   "outputs": [
    {
     "output_type": "stream",
     "name": "stdout",
     "text": [
      "elif1\n"
     ]
    }
   ],
   "source": [
    "a = 1\n",
    "if a == 0:\n",
    "    print('if')\n",
    "elif a == 1:\n",
    "    print('elif1')\n",
    "elif a == 2:\n",
    "    print('elif2')\n",
    "else:\n",
    "    print('else')"
   ]
  },
  {
   "cell_type": "code",
   "execution_count": 39,
   "metadata": {},
   "outputs": [],
   "source": [
    "# 음료수 얼려 먹기\n",
    "\n",
    "class icecream:\n",
    "\n",
    "    # 문제의 변수들을 생성자에서 저장\n",
    "    def __init__(self, m, n, visited, graph):\n",
    "        self.m = m\n",
    "        self.n = n\n",
    "        self.visited = visited\n",
    "        self.graph = graph\n",
    "        self.count = 0\n",
    "\n",
    "    # graph의 len만큼 false로 구성된 visited를 for문으로 도는 함수\n",
    "    def start(self):\n",
    "        for idx in range(len(self.visited)):\n",
    "            # 현재 위치를 graph의 x, y로 표현\n",
    "            x = idx // self.n\n",
    "            y = idx % self.n\n",
    "\n",
    "            # 현재 위치가 0이고 boolean이 false일 경우\n",
    "            if self.graph[x][y] == 0 and not self.visited[idx]:\n",
    "                # 재귀 함수인 check 함수 호출\n",
    "                self.check(x, y, idx)\n",
    "                # 재귀 함수인 check에서 나오면 count + 1\n",
    "                self.count += 1\n",
    "        \n",
    "        print(self.count)\n",
    "\n",
    "    # 현재 위치에서 다음 좌표가 우, 하, 좌, 상 순으로 0이거나 false일 경우 True로 변경하는 함수\n",
    "    def check(self, x, y, idx):\n",
    "        # 현재 위치의 boolean을 True로 변경\n",
    "        self.visited[idx] = True\n",
    "        \n",
    "        # 다음 위치가 graph의 범위를 벗어나지 않은 상태에서 0이고 boolean이 False일 경우 재귀함수 실행\n",
    "        if y < self.n - 1 and self.graph[x][y + 1] == 0 and not self.visited[idx + 1]:\n",
    "            self.check(x, y + 1, idx + 1)\n",
    "        if x < self.m - 1 and self.graph[x + 1][y] == 0 and not self.visited[idx + self.n]:\n",
    "            self.check(x + 1, y, idx + self.n)\n",
    "        if y > 0 and self.graph[x][y - 1] == 0 and not self.visited[idx - 1]:\n",
    "            self.check(x, y - 1, idx - 1)\n",
    "        if x > 0 and self.graph[x - 1][y] == 0 and not self.visited[idx - self.n]:\n",
    "            self.check(x - 1, y, idx - self.n)"
   ]
  },
  {
   "cell_type": "code",
   "execution_count": 40,
   "metadata": {
    "tags": []
   },
   "outputs": [
    {
     "output_type": "stream",
     "name": "stdout",
     "text": [
      "8\n"
     ]
    }
   ],
   "source": [
    "# 음료수 얼려 먹기\n",
    "\n",
    "# m, n = 4, 5\n",
    "\n",
    "# graph = [\n",
    "#     [0, 0, 1, 1, 0],\n",
    "#     [0, 0, 0, 1, 1],\n",
    "#     [1, 1, 1, 1, 1],\n",
    "#     [0, 0, 0, 0, 0],\n",
    "# ]\n",
    "\n",
    "m, n = 15, 14\n",
    "graph = [\n",
    "    [0, 0, 0, 0, 0, 1, 1, 1, 1, 0, 0, 0, 0, 0],\n",
    "    [1, 1, 1, 1, 1, 1, 0, 1, 1, 1, 1, 1, 1, 0],\n",
    "    [1, 1, 0, 1, 1, 1, 0, 1, 1, 0, 1, 1, 1, 0],\n",
    "    [1, 1, 0, 1, 1, 1, 0, 1, 1, 0, 0, 0, 0, 0],\n",
    "    [1, 1, 0, 1, 1, 1, 1, 1, 1, 1, 1, 1, 1, 1],\n",
    "    [1, 1, 0, 1, 1, 1, 1, 1, 1, 1, 1, 1, 0, 0],\n",
    "    [1, 1, 0, 0, 0, 0, 0, 0, 0, 1, 1, 1, 1, 1],\n",
    "    [0, 1, 1, 1, 1, 1, 1, 1, 1, 1, 1, 1, 1, 1],\n",
    "    [0, 0, 0, 0, 0, 0, 0, 0, 0, 1, 1, 1, 1, 1],\n",
    "    [0, 1, 1, 1, 1, 1, 1, 1, 1, 1, 1, 0, 0, 0],\n",
    "    [0, 0, 0, 1, 1, 1, 1, 1, 1, 1, 1, 0, 0, 0],\n",
    "    [0, 0, 0, 0, 0, 0, 0, 1, 1, 1, 1, 0, 0, 0],\n",
    "    [1, 1, 1, 1, 1, 1, 1, 1, 1, 1, 0, 0, 1, 1],\n",
    "    [1, 1, 1, 0, 0, 0, 1, 1, 1, 1, 1, 1, 1, 1],\n",
    "    [1, 1, 1, 0, 0, 0, 1, 1, 1, 1, 1, 1, 1, 1]\n",
    "]\n",
    "\n",
    "visited = [False] * (m * n)\n",
    "\n",
    "i = icecream(m, n, visited, graph)\n",
    "i.start()"
   ]
  }
 ]
}