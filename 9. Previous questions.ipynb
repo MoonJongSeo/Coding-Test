{
 "cells": [
  {
   "cell_type": "markdown",
   "source": [
    "# <span style=\"color:skyblue\">A 01</span> 모험가 길드"
   ],
   "metadata": {}
  },
  {
   "cell_type": "code",
   "execution_count": 20,
   "source": [
    "def countGroup(adventurerGroup):\r\n",
    "    # 3. 모험가들의 공포도 오름차순으로 정렬\r\n",
    "    adventurerGroup.sort()\r\n",
    "\r\n",
    "    # 4. 공포도가 적은 모험가들부터 그룹 생성\r\n",
    "\r\n",
    "    # 4-1. 모험가 그룹 list와 그룹 count 변수 생성\r\n",
    "    groupMember = []\r\n",
    "    numberOfGroup = 0\r\n",
    "\r\n",
    "    # 4-2. 모험가의 수만큼 반복문을 돌면서 list에 해당 공포도 추가\r\n",
    "    for i in adventurerGroup:\r\n",
    "        groupMember.append(i)\r\n",
    "        # 4-3. list의 길이와 max 공포도가 같은 경우 완성된 그룹으로 간주하고 list 초기화 및 그룹 수 + 1\r\n",
    "        if len(groupMember) >= groupMember[-1]:\r\n",
    "            groupMember = []\r\n",
    "            numberOfGroup += 1\r\n",
    "\r\n",
    "    print(numberOfGroup)"
   ],
   "outputs": [
    {
     "output_type": "stream",
     "name": "stdout",
     "text": [
      "3\n"
     ]
    }
   ],
   "metadata": {}
  },
  {
   "cell_type": "markdown",
   "source": [
    "## 입력 조건\r\n",
    "• 첫째 줄에 모험가의 수 N이 주어집니다. (1 ≤ N ≤ 100,000)\r\n",
    "\r\n",
    "• 둘째 줄에 각 모험가의 공포도의 값을 N 이하의 자연수로 주어지며. 각 자연수는 공백으로 구분합니다.\r\n",
    "\r\n",
    "\r\n",
    "## 출력 조건\r\n",
    "• 여행을 떠날 수 있는 그룹 수의 최댓값을 출력합니다."
   ],
   "metadata": {}
  },
  {
   "cell_type": "code",
   "execution_count": null,
   "source": [
    "# 1. 모험가의 수 입력\r\n",
    "numberOfAdventurers = int(input())\r\n",
    "\r\n",
    "# 2. 모험가의 수만큼 공포도 입력\r\n",
    "adventurerGroup = []\r\n",
    "degreeOfFear = list(map(int, input().split()))\r\n",
    "for i in range(numberOfAdventurers):\r\n",
    "    adventurerGroup.append(degreeOfFear[i])\r\n",
    "\r\n",
    "# ※ 모험가와 공포도 지정\r\n",
    "# adventurerGroup = [2, 3, 1, 2, 2]\r\n",
    "# adventurerGroup = [1, 1, 2, 2, 2, 3, 4, 5, 6, 7]\r\n",
    "\r\n",
    "countGroup(adventurerGroup)"
   ],
   "outputs": [],
   "metadata": {}
  }
 ],
 "metadata": {
  "orig_nbformat": 4,
  "language_info": {
   "name": "python",
   "version": "3.8.10",
   "mimetype": "text/x-python",
   "codemirror_mode": {
    "name": "ipython",
    "version": 3
   },
   "pygments_lexer": "ipython3",
   "nbconvert_exporter": "python",
   "file_extension": ".py"
  },
  "kernelspec": {
   "name": "python3",
   "display_name": "Python 3.8.10 64-bit ('Coding-Test': conda)"
  },
  "interpreter": {
   "hash": "1d59d707f906d76e3f95318c6a5bb7ea4981fb1f54e818f3b04a7e3df9c292bc"
  }
 },
 "nbformat": 4,
 "nbformat_minor": 2
}