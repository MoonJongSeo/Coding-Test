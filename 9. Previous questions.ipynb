{
 "cells": [
  {
   "cell_type": "markdown",
   "source": [
    "# <span style=\"color:skyblue\">A 01</span> 모험가 길드"
   ],
   "metadata": {}
  },
  {
   "cell_type": "code",
   "execution_count": 10,
   "source": [
    "def countGroup(adventurerGroup):\r\n",
    "    # 3. 모험가들의 공포도 오름차순으로 정렬\r\n",
    "    adventurerGroup.sort()\r\n",
    "\r\n",
    "    # 4. 공포도가 적은 모험가들부터 그룹 생성\r\n",
    "\r\n",
    "    # 4-1. 모험가 그룹 list와 그룹 count 변수 생성\r\n",
    "    groupMember = []\r\n",
    "    numberOfGroup = 0\r\n",
    "\r\n",
    "    # 4-2. 모험가의 수만큼 반복문을 돌면서 list에 해당 공포도 추가\r\n",
    "    for i in adventurerGroup:\r\n",
    "        groupMember.append(i)\r\n",
    "        # 4-3. list의 길이와 max 공포도가 같은 경우 완성된 그룹으로 간주하고 list 초기화 및 그룹 수 + 1\r\n",
    "        if len(groupMember) >= groupMember[-1]:\r\n",
    "            groupMember = []\r\n",
    "            numberOfGroup += 1\r\n",
    "\r\n",
    "    print(numberOfGroup)"
   ],
   "outputs": [],
   "metadata": {}
  },
  {
   "cell_type": "markdown",
   "source": [
    "## <span style=\"color:black; background:skyblue\"><b>입력 조건</b></span>\r\n",
    "• 첫째 줄에 모험가의 수 N이 주어집니다. (1 ≤ N ≤ 100,000)\r\n",
    "\r\n",
    "• 둘째 줄에 각 모험가의 공포도의 값을 N 이하의 자연수로 주어지며. 각 자연수는 공백으로 구분합니다.\r\n",
    "</br>\r\n",
    "</br>\r\n",
    "\r\n",
    "## <span style=\"color:black; background:skyblue\"><b>출력 조건</b></span>\r\n",
    "• 여행을 떠날 수 있는 그룹 수의 최댓값을 출력합니다."
   ],
   "metadata": {}
  },
  {
   "cell_type": "code",
   "execution_count": 11,
   "source": [
    "# 1. 모험가의 수 입력\r\n",
    "numberOfAdventurers = int(input())\r\n",
    "\r\n",
    "# 2. 모험가의 수만큼 공포도 입력\r\n",
    "adventurerGroup = []\r\n",
    "degreeOfFear = list(map(int, input().split()))\r\n",
    "for i in range(numberOfAdventurers):\r\n",
    "    adventurerGroup.append(degreeOfFear[i])\r\n",
    "\r\n",
    "# ※ 입력값 직접 지정\r\n",
    "# adventurerGroup = [2, 3, 1, 2, 2]\r\n",
    "# adventurerGroup = [1, 1, 2, 2, 2, 3, 4, 5, 6, 7]\r\n",
    "\r\n",
    "countGroup(adventurerGroup)"
   ],
   "outputs": [
    {
     "output_type": "stream",
     "name": "stdout",
     "text": [
      "2\n"
     ]
    }
   ],
   "metadata": {}
  },
  {
   "cell_type": "markdown",
   "source": [
    "# <span style=\"color:skyblue\">A 02</span> 곱하기 혹은 더하기"
   ],
   "metadata": {}
  },
  {
   "cell_type": "code",
   "execution_count": 8,
   "source": [
    "def multiplyOrAdd(stringS):\r\n",
    "    # 2. 문자열 stringS를 계산할 변수 maxNumber 생성\r\n",
    "    maxNumber = 0\r\n",
    "\r\n",
    "    # 3-1. stringS의 길이만큼 반복문 실행\r\n",
    "    for i in stringS:\r\n",
    "        # 3-2. 반복문이 처음일 경우는 maxNumber를 i로 초기화\r\n",
    "        if maxNumber == 0:\r\n",
    "            maxNumber = int(i)\r\n",
    "\r\n",
    "        # 3-3. 반복문 중 i가 0일 경우는 +\r\n",
    "        elif int(i) == 0:\r\n",
    "            maxNumber += int(i)\r\n",
    "\r\n",
    "        # 3-4. 반복문 중 i가 0이 아닐 경우는 *\r\n",
    "        else:\r\n",
    "            maxNumber *= int(i)\r\n",
    "\r\n",
    "    print(maxNumber)"
   ],
   "outputs": [],
   "metadata": {}
  },
  {
   "cell_type": "markdown",
   "source": [
    "## <span style=\"color:black; background:skyblue\"><b>입력 조건</b></span>\r\n",
    "• 첫째 줄에 여러 개의 숫자로 구성된 하나의 문자열 S가 주어집니다. (1 ≤ S의 길이 ≤ 20)\r\n",
    "</br></br>\r\n",
    "\r\n",
    "## <span style=\"color:black; background:skyblue\"><b>출력 조건</b></span>\r\n",
    "• 첫째 줄에 만들어질 수 있는 가장 큰 수를 출력합니다."
   ],
   "metadata": {}
  },
  {
   "cell_type": "code",
   "execution_count": 9,
   "source": [
    "# 1. 숫자로 이루어진 문자열 stringS 입력\r\n",
    "stringS = input()\r\n",
    "\r\n",
    "multiplyOrAdd(stringS)"
   ],
   "outputs": [
    {
     "output_type": "stream",
     "name": "stdout",
     "text": [
      "210\n"
     ]
    }
   ],
   "metadata": {}
  }
 ],
 "metadata": {
  "orig_nbformat": 4,
  "language_info": {
   "name": "python",
   "version": "3.8.10",
   "mimetype": "text/x-python",
   "codemirror_mode": {
    "name": "ipython",
    "version": 3
   },
   "pygments_lexer": "ipython3",
   "nbconvert_exporter": "python",
   "file_extension": ".py"
  },
  "kernelspec": {
   "name": "python3",
   "display_name": "Python 3.8.10 64-bit ('Coding-Test': conda)"
  },
  "interpreter": {
   "hash": "1d59d707f906d76e3f95318c6a5bb7ea4981fb1f54e818f3b04a7e3df9c292bc"
  }
 },
 "nbformat": 4,
 "nbformat_minor": 2
}