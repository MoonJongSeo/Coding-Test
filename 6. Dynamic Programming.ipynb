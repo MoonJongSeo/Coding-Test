{
 "metadata": {
  "language_info": {
   "codemirror_mode": {
    "name": "ipython",
    "version": 3
   },
   "file_extension": ".py",
   "mimetype": "text/x-python",
   "name": "python",
   "nbconvert_exporter": "python",
   "pygments_lexer": "ipython3",
   "version": "3.7.9"
  },
  "orig_nbformat": 2,
  "kernelspec": {
   "name": "python379jvsc74a57bd069212f882d919239973a505f79be5f487d0ea1712581324f4ed2b107edf27050",
   "display_name": "Python 3.7.9 64-bit (conda)"
  }
 },
 "nbformat": 4,
 "nbformat_minor": 2,
 "cells": [
  {
   "source": [
    "# 피보나치 수열: 단순 재귀 소스코드"
   ],
   "cell_type": "markdown",
   "metadata": {}
  },
  {
   "cell_type": "code",
   "execution_count": 1,
   "metadata": {},
   "outputs": [
    {
     "output_type": "stream",
     "name": "stdout",
     "text": [
      "3\n"
     ]
    }
   ],
   "source": [
    "# 피보나치 함수(Fibonacci Function)을 재귀함수로 표현\n",
    "def fibo(x):\n",
    "    if x == 1 or x == 2:\n",
    "        return 1\n",
    "    return fibo(x - 1) + fibo(x - 2)\n",
    "\n",
    "print(fibo(4))\n",
    "\n",
    "# 재귀함수로 피보나치 수열을 해결하면 지수 시간 복잡도"
   ]
  },
  {
   "source": [
    "# 다이나믹 프로그래밍 사용 조건\n",
    "## 1. 최적 부분 구조\n",
    "### - 큰 문제를 작은 문제로 나눌 수 있음\n",
    "## 2. 중복되는 부분 문제\n",
    "### - 동일한 작은 문제를 반복적으로 해결"
   ],
   "cell_type": "markdown",
   "metadata": {}
  },
  {
   "source": [
    "# 메모이제이션(Memoization)\n",
    "\n",
    "## 다이나믹 프로그래밍을 구현하는 방법 중 하나\n",
    "## 한 번 계산한 결과를 메모리 공간에 메모하는 기법\n",
    "### - 같은 문제를 다시 호출하면 메모했던 결과를 그대로 가져옴\n",
    "### - 값을 기록해 놓는다는 점에서 캐싱(Caching)이라고도 함\n",
    "\n",
    "## 탑다운 방식(Top-Down) == 하향식\n",
    "## 보텀업(Bottom-Up) 방식 == 상향식 ＊ 다이나믹 프로그래밍의 전형적인 형태\n",
    "### - 결과 저장용 리스트는 DP 테이블이라고 부름\n",
    "\n",
    "## 메모이제이션은 이전에 계산된 결과를 일시적으로 기록해 놓는 넓은 개념을 의미(캐쉬 개념 : Cache)\n",
    "### - 메모이제이션은 다이나믹 프로그래밍에 국한된 개념은 아님"
   ],
   "cell_type": "markdown",
   "metadata": {}
  },
  {
   "source": [
    "# 피보나치 함수(Fibonacci Function)을 탑다운 다이나믹 프로그래밍으로 표현"
   ],
   "cell_type": "markdown",
   "metadata": {}
  },
  {
   "cell_type": "code",
   "execution_count": 3,
   "metadata": {},
   "outputs": [
    {
     "output_type": "stream",
     "name": "stdout",
     "text": [
      "218922995834555169026\n"
     ]
    }
   ],
   "source": [
    "# 한 번 계산된 결과를 메모이제이션(Memoization)하기 위한 리스트 초기화\n",
    "d = [0] * 100\n",
    "\n",
    "# 피보나치 함수(Fibonacci Function)를 재귀함수로 구현(탑다운 다이나믹 프로그래밍)\n",
    "def fibo(x):\n",
    "    # 종료 조건(1 혹은 2일 때 1을 반환)\n",
    "    if x == 1 or x == 2:\n",
    "        return 1\n",
    "    # 이미 계산한 적 있는 문제라면 그대로 반환\n",
    "    if d[x] != 0:\n",
    "        return d[x]\n",
    "    # 아직 계산하지 않은 문제라면 점화식에 따라서 피보나치 결과 반환\n",
    "    d[x] = fibo(x - 1) + fibo(x - 2)\n",
    "    return d[x]\n",
    "\n",
    "print(fibo(99))"
   ]
  },
  {
   "source": [
    "# 피보나치 함수(Fibonacci Function)을 보텀업 다이나믹 프로그래밍으로 표현"
   ],
   "cell_type": "markdown",
   "metadata": {}
  },
  {
   "cell_type": "code",
   "execution_count": 2,
   "metadata": {},
   "outputs": [
    {
     "output_type": "stream",
     "name": "stdout",
     "text": [
      "218922995834555169026\n"
     ]
    }
   ],
   "source": [
    "# 앞서 계산된 결과를 저장하기 위한 DP 테이블 초기화\n",
    "d = [0] * 100\n",
    "\n",
    "# 첫 번째 피보나치 수와 두 번째 피보나치 수는 1\n",
    "d[1] = 1\n",
    "d[2] = 1\n",
    "n = 99\n",
    "\n",
    "# 피보나치 함수(Fibonacci Function) 반복문으로 구현(보텀업 다이나믹 프로그래밍)\n",
    "for i in range(3, n + 1):\n",
    "    d[i] = d[i - 1] + d[i - 2]\n",
    "\n",
    "print(d[n])\n",
    "\n",
    "# 메모이제이션을 이용하는 경우 피보나치 수열 함수의 시간 복잡도는 O(N)"
   ]
  },
  {
   "source": [
    "# 다이나믹 프로그래밍 VS 분할 정복\n",
    "\n",
    "## 다이나믹 프로그래밍과 분할 정복은 모두 최적 부분 구조를 가질 때 사용\n",
    "### - 큰 문제를 작은 문제로 나눌 수 있으며 작은 문제의 답을 모아서 큰 문제를 해결할 수 있는 상황\n",
    "\n",
    "## 다이나믹 프로그래밍과 분할 정복의 차이점 : 부분 문제의 중복\n",
    "### - 다이나믹 프로그래밍 문제에서는 각 부분 문제들이 서로 영향을 미치며 부분 문제가 중복\n",
    "### - 분할 정복 문제에서는 동일한 부분 문제가 반복적으로 계산되지 않음"
   ],
   "cell_type": "code",
   "metadata": {},
   "execution_count": null,
   "outputs": []
  },
  {
   "cell_type": "code",
   "execution_count": null,
   "metadata": {},
   "outputs": [],
   "source": [
    "n = 4\n",
    "k = [1, 3, 1, 5]\n",
    "\n",
    "result = 0\n",
    "\n",
    "for i in k:\n",
    "    \n",
    "\n",
    "    result = i"
   ]
  }
 ]
}