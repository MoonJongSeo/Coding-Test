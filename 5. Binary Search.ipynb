{
 "metadata": {
  "language_info": {
   "codemirror_mode": {
    "name": "ipython",
    "version": 3
   },
   "file_extension": ".py",
   "mimetype": "text/x-python",
   "name": "python",
   "nbconvert_exporter": "python",
   "pygments_lexer": "ipython3",
   "version": "3.7.9"
  },
  "orig_nbformat": 2,
  "kernelspec": {
   "name": "python379jvsc74a57bd069212f882d919239973a505f79be5f487d0ea1712581324f4ed2b107edf27050",
   "display_name": "Python 3.7.9 64-bit (conda)"
  }
 },
 "nbformat": 4,
 "nbformat_minor": 2,
 "cells": [
  {
   "source": [
    "# 이진 탐색 소스코드: 재귀적 구현"
   ],
   "cell_type": "markdown",
   "metadata": {}
  },
  {
   "cell_type": "code",
   "execution_count": 5,
   "metadata": {},
   "outputs": [
    {
     "output_type": "stream",
     "name": "stdout",
     "text": [
      "4\n"
     ]
    }
   ],
   "source": [
    "# 이진 탐색 소스코드 구현 (재귀 함수)\n",
    "def binary_search(array, target, start, end):\n",
    "    if start > end:\n",
    "        return None\n",
    "\n",
    "    mid = (start + end) // 2\n",
    "    \n",
    "    # 찾은 경우 중간점 인덱스 반환\n",
    "    if array[mid] == target:\n",
    "        return mid\n",
    "    # 중간점의 값보다 찾고자 하는 값이 작은 경우 왼쪽 확인\n",
    "    elif array[mid] > target:\n",
    "        return binary_search(array, target, start, mid - 1)\n",
    "    # 중간점의 값보다 찾고자 하는 값이 큰 경우 오른쪽 확인\n",
    "    else:\n",
    "        return binary_search(array, target, mid + 1, end)\n",
    "\n",
    "# n(원소의 개수)과 target(찾고자 하는 값)을 입력 받기\n",
    "n, target = list(map(int, input().split()))\n",
    "# 전체 원소 입력 받기\n",
    "array = list(map(int, input().split()))\n",
    "\n",
    "# 이진 탐색 수행 결과 출력\n",
    "result = binary_search(array, target, 0, n - 1)\n",
    "if result == None:\n",
    "    print(\"원소가 존재하지 않습니다.\")\n",
    "else:\n",
    "    print(result + 1)"
   ]
  },
  {
   "source": [
    "# 이진 탐색 소스코드: 반복문 구현"
   ],
   "cell_type": "markdown",
   "metadata": {}
  },
  {
   "cell_type": "code",
   "execution_count": 6,
   "metadata": {},
   "outputs": [
    {
     "output_type": "stream",
     "name": "stdout",
     "text": [
      "4\n"
     ]
    }
   ],
   "source": [
    "# 이진 탐색 소스코드 구현 (재귀 함수)\n",
    "def binary_search(array, target, start, end):\n",
    "    while start <= end:\n",
    "        mid = (start + end) // 2\n",
    "        \n",
    "        # 찾은 경우 중간점 인덱스 반환\n",
    "        if array[mid] == target:\n",
    "            return mid\n",
    "        # 중간점의 값보다 찾고자 하는 값이 작은 경우 왼쪽 확인\n",
    "        elif array[mid] > target:\n",
    "            end = mid - 1\n",
    "        # 중간점의 값보다 찾고자 하는 값이 큰 경우 오른쪽 확인\n",
    "        else:\n",
    "            start = mid + 1\n",
    "    return None\n",
    "\n",
    "# n(원소의 개수)과 target(찾고자 하는 값)을 입력 받기\n",
    "n, target = list(map(int, input().split()))\n",
    "# 전체 원소 입력 받기\n",
    "array = list(map(int, input().split()))\n",
    "\n",
    "# 이진 탐색 수행 결과 출력\n",
    "result = binary_search(array, target, 0, n - 1)\n",
    "if result == None:\n",
    "    print(\"원소가 존재하지 않습니다.\")\n",
    "else:\n",
    "    print(result + 1)"
   ]
  },
  {
   "source": [
    "# 파이썬 이진 탐색 라이브러리"
   ],
   "cell_type": "markdown",
   "metadata": {}
  },
  {
   "cell_type": "code",
   "execution_count": 7,
   "metadata": {},
   "outputs": [
    {
     "output_type": "stream",
     "name": "stdout",
     "text": [
      "2\n4\n"
     ]
    }
   ],
   "source": [
    "# bisect_left(a, x) : 정렬된 순서를 유지하면서 배열 a에 x를 삽입할 가장 왼쪽 인덱스를 반환\n",
    "# bisect_right(a, x) : 정렬된 순서를 유지하면서 배열 a에 x를 삽입할 가장 오른쪽 인덱스를 반환\n",
    "\n",
    "from bisect import bisect_left, bisect_right\n",
    "\n",
    "a = [1, 2, 4, 4, 8]\n",
    "x = 4\n",
    "\n",
    "print(bisect_left(a, x))\n",
    "print(bisect_right(a, x))"
   ]
  },
  {
   "source": [
    "# 값이 특정 범위에 속하는 데이터 개수 구하기"
   ],
   "cell_type": "markdown",
   "metadata": {}
  },
  {
   "cell_type": "code",
   "execution_count": 10,
   "metadata": {},
   "outputs": [
    {
     "output_type": "stream",
     "name": "stdout",
     "text": [
      "2\n6\n"
     ]
    }
   ],
   "source": [
    "from bisect import bisect_left, bisect_right\n",
    "\n",
    "# 값이 [left_value, right_value]인 데이터의 개수를 반환하는 함수\n",
    "def count_by_range(a, left_value, right_value):\n",
    "    right_index = bisect_right(a, right_value)\n",
    "    left_index = bisect_left(a, left_value)\n",
    "    return right_index - left_index\n",
    "\n",
    "# 배열 선언\n",
    "a = [1, 2, 3, 3, 3, 3, 4, 4, 8, 9]\n",
    "\n",
    "# 값이 4인 데이터 개수 출력\n",
    "print(count_by_range(a, 4, 4))\n",
    "\n",
    "# 값이 [-1 ,3] 범위에 있는 데이터 개수 출력\n",
    "print(count_by_range(a, -1, 3))"
   ]
  },
  {
   "source": [
    "# 파라메트릭 서치 (Parametric Search)"
   ],
   "cell_type": "markdown",
   "metadata": {}
  },
  {
   "cell_type": "code",
   "execution_count": null,
   "metadata": {},
   "outputs": [],
   "source": [
    "# 파라메트릭 서치 : 최적화 문제를 결정 문제('예' 혹은 '아니오')로 바꾸어 해결하는 기법\n",
    "# 일반적으로 코딩 테스트에서 파라메트릭 서치 문제는 이진 탐색을 이용하여 해결 가능"
   ]
  },
  {
   "source": [
    "# 떡볶이 떡 만들기"
   ],
   "cell_type": "markdown",
   "metadata": {}
  },
  {
   "cell_type": "code",
   "execution_count": 18,
   "metadata": {},
   "outputs": [],
   "source": [
    "# n, m = 4, 6\n",
    "# tteok_length_list = [19, 14, 10, 17]\n",
    "n, m = 4, 3\n",
    "tteok_length_list = [15, 17, 17, 19]"
   ]
  },
  {
   "cell_type": "code",
   "execution_count": 19,
   "metadata": {},
   "outputs": [
    {
     "output_type": "stream",
     "name": "stdout",
     "text": [
      "16\n"
     ]
    }
   ],
   "source": [
    "# 떡 길이 리스트를 내림차순 정렬\n",
    "tteok_length_list.sort(reverse=True)\n",
    "# 절단기 설정의 최솟값 설정\n",
    "h = int((sum(tteok_length_list) - m) /  n)\n",
    "\n",
    "while True:\n",
    "    # 잘린 떡 길이 합을 저장할 변수\n",
    "    tteok_control = 0\n",
    "    \n",
    "    for i in tteok_length_list:\n",
    "        # 절단기보다 떡이 작거나 같을 경우 break\n",
    "        if i <= h:\n",
    "            break\n",
    "        # 절단기보다 떡이 클 경우 잘린 떡 길이 저장\n",
    "        tteok_control += (i - h)\n",
    "\n",
    "    # 잘린 떡 길이가 요청한 총 길이와 같을 경우 종료\n",
    "    if tteok_control == m:\n",
    "        break\n",
    "    # 잘린 떡 길이가 요청한 총 길이보다 작을 경우 절단기의 길이를 1cm 감소 후 종료\n",
    "    elif tteok_control < m:\n",
    "        h -= 1\n",
    "        break\n",
    "    # 절단기 길이를 1cm 증가 후 다시 실행\n",
    "    h += 1\n",
    "\n",
    "print(h)"
   ]
  },
  {
   "cell_type": "code",
   "execution_count": 25,
   "metadata": {},
   "outputs": [
    {
     "output_type": "stream",
     "name": "stdout",
     "text": [
      "0\n"
     ]
    }
   ],
   "source": [
    "N, M = 4, 6\n",
    "n_list = [19, 14, 10, 17]\n",
    "\n",
    "cut = min(n_list)\n",
    "b_cut = 0\n",
    "b_count = 99\n",
    "\n",
    "cnt = 0\n",
    "result = 0\n",
    "\n",
    "while True:\n",
    "    if cnt > 3:\n",
    "        break\n",
    "\n",
    "    count = 0\n",
    "    for i in range(N): # 0, 1, 2, 3\n",
    "        if n_list[i] < cut:\n",
    "            continue\n",
    "        count += n_list[i] % cut\n",
    "\n",
    "    if count < M:\n",
    "        b_cut = cut\n",
    "        cut += 1\n",
    "\n",
    "    elif b_count < count:\n",
    "        result = b_cut\n",
    "        break\n",
    "\n",
    "    else:\n",
    "        b_cut = cut\n",
    "        b_count = count\n",
    "        cut += 1\n",
    "\n",
    "    cnt += 1\n",
    "\n",
    "print(result)"
   ]
  },
  {
   "source": [
    "# 부품 찾기"
   ],
   "cell_type": "markdown",
   "metadata": {}
  },
  {
   "cell_type": "code",
   "execution_count": 5,
   "metadata": {},
   "outputs": [],
   "source": [
    "# n : 판매자가 가지고 있는 부품 개수\n",
    "# p_l : 판매자가 가지고 있는 부품 종류\n",
    "n = 5\n",
    "p_l = [8, 3, 7, 9, 2]\n",
    "\n",
    "# m : 손님이 가지고 있는 부품 개수\n",
    "# c_l : 손님이 가지고 있는 부품 종류\n",
    "m = 3\n",
    "c_l = [5, 7, 9]"
   ]
  },
  {
   "cell_type": "code",
   "execution_count": 7,
   "metadata": {},
   "outputs": [
    {
     "output_type": "stream",
     "name": "stdout",
     "text": [
      "No Yes Yes "
     ]
    }
   ],
   "source": [
    "def machine_check(i, min_t, max_t):\n",
    "    # \n",
    "    t = int((min_t + max_t) / 2)\n",
    "    # 최솟값과 최댓값의 인덱스가 1 차이가 날 경우 result를 No로 설정 후 반환 및 함수 종료\n",
    "    if abs(max_t - min_t) == 1:\n",
    "        result = \"No\"\n",
    "        return result\n",
    "\n",
    "    # 손님이 가지고 있는 부품이 기준보다 작을 경우 기준을 최댓값으로 설정 후 machine_check 함수 실행\n",
    "    if p_l[t] > c_l[i]:\n",
    "        result = machine_check(i, min_t, t)\n",
    "    # 손님이 가지고 있는 부품이 기준보다 클 경우 기준을 최솟값으로 설정 후 machine_check 함수 실행\n",
    "    elif p_l[t] < c_l[i]:\n",
    "        result = machine_check(i, t, max_t)\n",
    "    # 손님이 가지고 있는 부품이 기준과 같을 경우 result를 Yes로 설정 후 반환 및 함수 종료\n",
    "    else:\n",
    "        result = \"Yes\"\n",
    "        return result\n",
    "    return result\n",
    "\n",
    "# 판매자가 가지고 있는 부품 오름차순 정렬\n",
    "p_l.sort()\n",
    "# 손님이 가지고 있는 부품들을 차례대로 machine_check 함수 실행\n",
    "for i in range(len(c_l)):\n",
    "    # 리스트의 처음과 끝을 확인하기 위해 범위를 ±1\n",
    "    print( machine_check(i, -1, len(p_l)), end=' ' )"
   ]
  }
 ]
}